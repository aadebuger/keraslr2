{
 "cells": [
  {
   "cell_type": "code",
   "execution_count": 1,
   "metadata": {
    "ExecuteTime": {
     "end_time": "2019-05-04T04:10:04.728105Z",
     "start_time": "2019-05-04T04:10:04.484556Z"
    }
   },
   "outputs": [],
   "source": [
    "import numpy as np"
   ]
  },
  {
   "cell_type": "code",
   "execution_count": 2,
   "metadata": {
    "ExecuteTime": {
     "end_time": "2019-05-04T04:10:19.296697Z",
     "start_time": "2019-05-04T04:10:14.165291Z"
    }
   },
   "outputs": [
    {
     "name": "stderr",
     "output_type": "stream",
     "text": [
      "Using TensorFlow backend.\n",
      "/Users/aadebuger/GEXT/kerasvenv3/lib/python3.6/importlib/_bootstrap.py:219: RuntimeWarning: compiletime version 3.5 of module 'tensorflow.python.framework.fast_tensor_util' does not match runtime version 3.6\n",
      "  return f(*args, **kwds)\n"
     ]
    }
   ],
   "source": [
    "from keras.datasets import mnist"
   ]
  },
  {
   "cell_type": "code",
   "execution_count": 3,
   "metadata": {
    "ExecuteTime": {
     "end_time": "2019-05-04T04:10:30.823048Z",
     "start_time": "2019-05-04T04:10:30.819461Z"
    }
   },
   "outputs": [],
   "source": [
    "from keras.models import Sequential"
   ]
  },
  {
   "cell_type": "markdown",
   "metadata": {
    "ExecuteTime": {
     "end_time": "2019-05-04T04:11:00.042955Z",
     "start_time": "2019-05-04T04:11:00.039419Z"
    }
   },
   "source": [
    "## from keras.layers.core import Dense,Activation"
   ]
  },
  {
   "cell_type": "code",
   "execution_count": 7,
   "metadata": {
    "ExecuteTime": {
     "end_time": "2019-05-04T04:11:10.883558Z",
     "start_time": "2019-05-04T04:11:10.880287Z"
    }
   },
   "outputs": [],
   "source": [
    "from keras.optimizers import SGD"
   ]
  },
  {
   "cell_type": "code",
   "execution_count": 8,
   "metadata": {
    "ExecuteTime": {
     "end_time": "2019-05-04T04:11:29.170020Z",
     "start_time": "2019-05-04T04:11:29.166521Z"
    }
   },
   "outputs": [],
   "source": [
    "from keras.utils import np_utils"
   ]
  },
  {
   "cell_type": "code",
   "execution_count": 9,
   "metadata": {
    "ExecuteTime": {
     "end_time": "2019-05-04T04:11:41.646760Z",
     "start_time": "2019-05-04T04:11:41.637456Z"
    }
   },
   "outputs": [],
   "source": [
    "np.random.seed(1671)"
   ]
  },
  {
   "cell_type": "code",
   "execution_count": 40,
   "metadata": {
    "ExecuteTime": {
     "end_time": "2019-05-04T04:20:31.887173Z",
     "start_time": "2019-05-04T04:20:31.883195Z"
    }
   },
   "outputs": [],
   "source": [
    "NB_EPOCH=200"
   ]
  },
  {
   "cell_type": "code",
   "execution_count": 11,
   "metadata": {
    "ExecuteTime": {
     "end_time": "2019-05-04T04:12:06.336343Z",
     "start_time": "2019-05-04T04:12:06.332730Z"
    }
   },
   "outputs": [],
   "source": [
    "BATCH_SIZE=128"
   ]
  },
  {
   "cell_type": "code",
   "execution_count": 12,
   "metadata": {
    "ExecuteTime": {
     "end_time": "2019-05-04T04:12:11.854825Z",
     "start_time": "2019-05-04T04:12:11.851482Z"
    }
   },
   "outputs": [],
   "source": [
    "VERBOSE=1"
   ]
  },
  {
   "cell_type": "code",
   "execution_count": 13,
   "metadata": {
    "ExecuteTime": {
     "end_time": "2019-05-04T04:12:22.236531Z",
     "start_time": "2019-05-04T04:12:22.233601Z"
    }
   },
   "outputs": [],
   "source": [
    "NB_CLASSES= 10"
   ]
  },
  {
   "cell_type": "code",
   "execution_count": 14,
   "metadata": {
    "ExecuteTime": {
     "end_time": "2019-05-04T04:12:32.332160Z",
     "start_time": "2019-05-04T04:12:32.231497Z"
    }
   },
   "outputs": [],
   "source": [
    "OPTIMIZER= SGD()"
   ]
  },
  {
   "cell_type": "code",
   "execution_count": 15,
   "metadata": {
    "ExecuteTime": {
     "end_time": "2019-05-04T04:12:40.833779Z",
     "start_time": "2019-05-04T04:12:40.830727Z"
    }
   },
   "outputs": [],
   "source": [
    "N_HIDDEN= 128"
   ]
  },
  {
   "cell_type": "code",
   "execution_count": 16,
   "metadata": {
    "ExecuteTime": {
     "end_time": "2019-05-04T04:12:50.501594Z",
     "start_time": "2019-05-04T04:12:50.498292Z"
    }
   },
   "outputs": [],
   "source": [
    "VALIDATION_SPLIT=0.2"
   ]
  },
  {
   "cell_type": "code",
   "execution_count": 17,
   "metadata": {
    "ExecuteTime": {
     "end_time": "2019-05-04T04:13:17.718912Z",
     "start_time": "2019-05-04T04:13:17.109514Z"
    }
   },
   "outputs": [],
   "source": [
    "(X_train,y_train),(X_test,y_test)= mnist.load_data()"
   ]
  },
  {
   "cell_type": "code",
   "execution_count": 18,
   "metadata": {
    "ExecuteTime": {
     "end_time": "2019-05-04T04:13:26.072258Z",
     "start_time": "2019-05-04T04:13:26.068553Z"
    }
   },
   "outputs": [],
   "source": [
    "RESHAPED = 784"
   ]
  },
  {
   "cell_type": "code",
   "execution_count": 19,
   "metadata": {
    "ExecuteTime": {
     "end_time": "2019-05-04T04:13:43.761089Z",
     "start_time": "2019-05-04T04:13:43.757479Z"
    }
   },
   "outputs": [],
   "source": [
    "X_train= X_train.reshape(60000,RESHAPED)"
   ]
  },
  {
   "cell_type": "code",
   "execution_count": 20,
   "metadata": {
    "ExecuteTime": {
     "end_time": "2019-05-04T04:13:59.704577Z",
     "start_time": "2019-05-04T04:13:59.701289Z"
    }
   },
   "outputs": [],
   "source": [
    "X_test = X_test.reshape(10000,RESHAPED)"
   ]
  },
  {
   "cell_type": "code",
   "execution_count": 21,
   "metadata": {
    "ExecuteTime": {
     "end_time": "2019-05-04T04:14:15.935019Z",
     "start_time": "2019-05-04T04:14:15.444538Z"
    }
   },
   "outputs": [],
   "source": [
    "X_train = X_train.astype('float32')"
   ]
  },
  {
   "cell_type": "code",
   "execution_count": 22,
   "metadata": {
    "ExecuteTime": {
     "end_time": "2019-05-04T04:14:26.501928Z",
     "start_time": "2019-05-04T04:14:26.452764Z"
    }
   },
   "outputs": [],
   "source": [
    "X_test = X_test.astype('float32')"
   ]
  },
  {
   "cell_type": "code",
   "execution_count": 23,
   "metadata": {
    "ExecuteTime": {
     "end_time": "2019-05-04T04:14:41.266556Z",
     "start_time": "2019-05-04T04:14:40.350837Z"
    }
   },
   "outputs": [],
   "source": [
    "X_train/=255"
   ]
  },
  {
   "cell_type": "code",
   "execution_count": 24,
   "metadata": {
    "ExecuteTime": {
     "end_time": "2019-05-04T04:14:47.458461Z",
     "start_time": "2019-05-04T04:14:47.376389Z"
    }
   },
   "outputs": [],
   "source": [
    "X_test/=255"
   ]
  },
  {
   "cell_type": "code",
   "execution_count": 25,
   "metadata": {
    "ExecuteTime": {
     "end_time": "2019-05-04T04:15:05.175523Z",
     "start_time": "2019-05-04T04:15:05.169135Z"
    }
   },
   "outputs": [
    {
     "name": "stdout",
     "output_type": "stream",
     "text": [
      "60000 train samples\n"
     ]
    }
   ],
   "source": [
    "print(X_train.shape[0],'train samples')"
   ]
  },
  {
   "cell_type": "code",
   "execution_count": 26,
   "metadata": {
    "ExecuteTime": {
     "end_time": "2019-05-04T04:15:21.710429Z",
     "start_time": "2019-05-04T04:15:21.705692Z"
    }
   },
   "outputs": [
    {
     "name": "stdout",
     "output_type": "stream",
     "text": [
      "10000 test samples\n"
     ]
    }
   ],
   "source": [
    "print(X_test.shape[0],'test samples')"
   ]
  },
  {
   "cell_type": "code",
   "execution_count": 28,
   "metadata": {
    "ExecuteTime": {
     "end_time": "2019-05-04T04:16:00.246682Z",
     "start_time": "2019-05-04T04:16:00.235979Z"
    }
   },
   "outputs": [],
   "source": [
    "Y_train = np_utils.to_categorical(y_train,NB_CLASSES)"
   ]
  },
  {
   "cell_type": "code",
   "execution_count": 29,
   "metadata": {
    "ExecuteTime": {
     "end_time": "2019-05-04T04:16:20.937941Z",
     "start_time": "2019-05-04T04:16:20.932812Z"
    }
   },
   "outputs": [],
   "source": [
    "Y_test = np_utils.to_categorical(y_test,NB_CLASSES)"
   ]
  },
  {
   "cell_type": "code",
   "execution_count": 30,
   "metadata": {
    "ExecuteTime": {
     "end_time": "2019-05-04T04:16:39.801055Z",
     "start_time": "2019-05-04T04:16:39.796552Z"
    }
   },
   "outputs": [],
   "source": [
    "model= Sequential()"
   ]
  },
  {
   "cell_type": "code",
   "execution_count": 31,
   "metadata": {
    "ExecuteTime": {
     "end_time": "2019-05-04T04:17:08.155928Z",
     "start_time": "2019-05-04T04:17:08.096345Z"
    }
   },
   "outputs": [],
   "source": [
    "model.add(Dense(NB_CLASSES,input_shape=(RESHAPED,)))"
   ]
  },
  {
   "cell_type": "code",
   "execution_count": 32,
   "metadata": {
    "ExecuteTime": {
     "end_time": "2019-05-04T04:17:20.399881Z",
     "start_time": "2019-05-04T04:17:20.388211Z"
    }
   },
   "outputs": [],
   "source": [
    "model.add(Activation('softmax'))"
   ]
  },
  {
   "cell_type": "code",
   "execution_count": 33,
   "metadata": {
    "ExecuteTime": {
     "end_time": "2019-05-04T04:17:30.017242Z",
     "start_time": "2019-05-04T04:17:30.008367Z"
    }
   },
   "outputs": [
    {
     "name": "stdout",
     "output_type": "stream",
     "text": [
      "_________________________________________________________________\n",
      "Layer (type)                 Output Shape              Param #   \n",
      "=================================================================\n",
      "dense_1 (Dense)              (None, 10)                7850      \n",
      "_________________________________________________________________\n",
      "activation_1 (Activation)    (None, 10)                0         \n",
      "=================================================================\n",
      "Total params: 7,850\n",
      "Trainable params: 7,850\n",
      "Non-trainable params: 0\n",
      "_________________________________________________________________\n"
     ]
    }
   ],
   "source": [
    "model.summary()"
   ]
  },
  {
   "cell_type": "code",
   "execution_count": 36,
   "metadata": {
    "ExecuteTime": {
     "end_time": "2019-05-04T04:19:00.736635Z",
     "start_time": "2019-05-04T04:19:00.680318Z"
    }
   },
   "outputs": [],
   "source": [
    "model.compile(loss='categorical_crossentropy',optimizer=OPTIMIZER,metrics=['accuracy'])"
   ]
  },
  {
   "cell_type": "code",
   "execution_count": 41,
   "metadata": {
    "ExecuteTime": {
     "end_time": "2019-05-04T04:24:23.543645Z",
     "start_time": "2019-05-04T04:20:35.242922Z"
    }
   },
   "outputs": [
    {
     "name": "stdout",
     "output_type": "stream",
     "text": [
      "Train on 48000 samples, validate on 12000 samples\n",
      "Epoch 1/200\n",
      "48000/48000 [==============================] - 3s 56us/step - loss: 1.3633 - acc: 0.6796 - val_loss: 0.8904 - val_acc: 0.8246\n",
      "Epoch 2/200\n",
      "48000/48000 [==============================] - 1s 23us/step - loss: 0.7913 - acc: 0.8272 - val_loss: 0.6572 - val_acc: 0.8546\n",
      "Epoch 3/200\n",
      "48000/48000 [==============================] - 1s 25us/step - loss: 0.6436 - acc: 0.8497 - val_loss: 0.5625 - val_acc: 0.8681\n",
      "Epoch 4/200\n",
      "48000/48000 [==============================] - 1s 25us/step - loss: 0.5717 - acc: 0.8602 - val_loss: 0.5098 - val_acc: 0.8765\n",
      "Epoch 5/200\n",
      "48000/48000 [==============================] - 1s 23us/step - loss: 0.5276 - acc: 0.8678 - val_loss: 0.4758 - val_acc: 0.8826\n",
      "Epoch 6/200\n",
      "48000/48000 [==============================] - 1s 23us/step - loss: 0.4973 - acc: 0.8726 - val_loss: 0.4515 - val_acc: 0.8866\n",
      "Epoch 7/200\n",
      "48000/48000 [==============================] - 1s 24us/step - loss: 0.4748 - acc: 0.8775 - val_loss: 0.4333 - val_acc: 0.8882\n",
      "Epoch 8/200\n",
      "48000/48000 [==============================] - 1s 28us/step - loss: 0.4574 - acc: 0.8803 - val_loss: 0.4189 - val_acc: 0.8920\n",
      "Epoch 9/200\n",
      "48000/48000 [==============================] - 1s 25us/step - loss: 0.4433 - acc: 0.8834 - val_loss: 0.4075 - val_acc: 0.8939\n",
      "Epoch 10/200\n",
      "48000/48000 [==============================] - 1s 26us/step - loss: 0.4317 - acc: 0.8850 - val_loss: 0.3977 - val_acc: 0.8966\n",
      "Epoch 11/200\n",
      "48000/48000 [==============================] - 1s 26us/step - loss: 0.4218 - acc: 0.8873 - val_loss: 0.3896 - val_acc: 0.8984\n",
      "Epoch 12/200\n",
      "48000/48000 [==============================] - 1s 24us/step - loss: 0.4134 - acc: 0.8888 - val_loss: 0.3827 - val_acc: 0.8995\n",
      "Epoch 13/200\n",
      "48000/48000 [==============================] - 1s 26us/step - loss: 0.4060 - acc: 0.8902 - val_loss: 0.3766 - val_acc: 0.9003\n",
      "Epoch 14/200\n",
      "48000/48000 [==============================] - 1s 22us/step - loss: 0.3995 - acc: 0.8918 - val_loss: 0.3712 - val_acc: 0.9013\n",
      "Epoch 15/200\n",
      "48000/48000 [==============================] - 1s 24us/step - loss: 0.3936 - acc: 0.8928 - val_loss: 0.3664 - val_acc: 0.9016\n",
      "Epoch 16/200\n",
      "48000/48000 [==============================] - 1s 22us/step - loss: 0.3884 - acc: 0.8945 - val_loss: 0.3621 - val_acc: 0.9031\n",
      "Epoch 17/200\n",
      "48000/48000 [==============================] - 1s 24us/step - loss: 0.3837 - acc: 0.8950 - val_loss: 0.3582 - val_acc: 0.9033\n",
      "Epoch 18/200\n",
      "48000/48000 [==============================] - 1s 24us/step - loss: 0.3794 - acc: 0.8962 - val_loss: 0.3546 - val_acc: 0.9039\n",
      "Epoch 19/200\n",
      "48000/48000 [==============================] - 1s 21us/step - loss: 0.3755 - acc: 0.8970 - val_loss: 0.3514 - val_acc: 0.9048\n",
      "Epoch 20/200\n",
      "48000/48000 [==============================] - 1s 23us/step - loss: 0.3718 - acc: 0.8979 - val_loss: 0.3485 - val_acc: 0.9053\n",
      "Epoch 21/200\n",
      "48000/48000 [==============================] - 1s 24us/step - loss: 0.3685 - acc: 0.8985 - val_loss: 0.3457 - val_acc: 0.9058\n",
      "Epoch 22/200\n",
      "48000/48000 [==============================] - 1s 28us/step - loss: 0.3653 - acc: 0.8995 - val_loss: 0.3431 - val_acc: 0.9058\n",
      "Epoch 23/200\n",
      "48000/48000 [==============================] - 1s 27us/step - loss: 0.3625 - acc: 0.8999 - val_loss: 0.3407 - val_acc: 0.9063\n",
      "Epoch 24/200\n",
      "48000/48000 [==============================] - 1s 27us/step - loss: 0.3598 - acc: 0.9008 - val_loss: 0.3385 - val_acc: 0.9070\n",
      "Epoch 25/200\n",
      "48000/48000 [==============================] - 1s 25us/step - loss: 0.3572 - acc: 0.9012 - val_loss: 0.3364 - val_acc: 0.9074\n",
      "Epoch 26/200\n",
      "48000/48000 [==============================] - 1s 25us/step - loss: 0.3548 - acc: 0.9019 - val_loss: 0.3345 - val_acc: 0.9084\n",
      "Epoch 27/200\n",
      "48000/48000 [==============================] - 1s 24us/step - loss: 0.3525 - acc: 0.9022 - val_loss: 0.3326 - val_acc: 0.9082\n",
      "Epoch 28/200\n",
      "48000/48000 [==============================] - 1s 25us/step - loss: 0.3504 - acc: 0.9032 - val_loss: 0.3311 - val_acc: 0.9090\n",
      "Epoch 29/200\n",
      "48000/48000 [==============================] - 1s 25us/step - loss: 0.3484 - acc: 0.9031 - val_loss: 0.3293 - val_acc: 0.9094\n",
      "Epoch 30/200\n",
      "48000/48000 [==============================] - 1s 27us/step - loss: 0.3465 - acc: 0.9041 - val_loss: 0.3277 - val_acc: 0.9097\n",
      "Epoch 31/200\n",
      "48000/48000 [==============================] - 1s 25us/step - loss: 0.3447 - acc: 0.9044 - val_loss: 0.3264 - val_acc: 0.9097\n",
      "Epoch 32/200\n",
      "48000/48000 [==============================] - 1s 23us/step - loss: 0.3430 - acc: 0.9047 - val_loss: 0.3249 - val_acc: 0.9097\n",
      "Epoch 33/200\n",
      "48000/48000 [==============================] - 1s 23us/step - loss: 0.3413 - acc: 0.9051 - val_loss: 0.3235 - val_acc: 0.9103\n",
      "Epoch 34/200\n",
      "48000/48000 [==============================] - 1s 23us/step - loss: 0.3397 - acc: 0.9056 - val_loss: 0.3222 - val_acc: 0.9104\n",
      "Epoch 35/200\n",
      "48000/48000 [==============================] - 1s 26us/step - loss: 0.3382 - acc: 0.9058 - val_loss: 0.3211 - val_acc: 0.9110\n",
      "Epoch 36/200\n",
      "48000/48000 [==============================] - 1s 27us/step - loss: 0.3368 - acc: 0.9062 - val_loss: 0.3198 - val_acc: 0.9110\n",
      "Epoch 37/200\n",
      "48000/48000 [==============================] - 1s 27us/step - loss: 0.3353 - acc: 0.9069 - val_loss: 0.3187 - val_acc: 0.9117\n",
      "Epoch 38/200\n",
      "48000/48000 [==============================] - 1s 24us/step - loss: 0.3340 - acc: 0.9075 - val_loss: 0.3177 - val_acc: 0.9120\n",
      "Epoch 39/200\n",
      "48000/48000 [==============================] - 1s 24us/step - loss: 0.3327 - acc: 0.9075 - val_loss: 0.3166 - val_acc: 0.9122\n",
      "Epoch 40/200\n",
      "48000/48000 [==============================] - 1s 22us/step - loss: 0.3314 - acc: 0.9078 - val_loss: 0.3159 - val_acc: 0.9118\n",
      "Epoch 41/200\n",
      "48000/48000 [==============================] - 1s 24us/step - loss: 0.3303 - acc: 0.9080 - val_loss: 0.3147 - val_acc: 0.9127\n",
      "Epoch 42/200\n",
      "48000/48000 [==============================] - 1s 26us/step - loss: 0.3291 - acc: 0.9084 - val_loss: 0.3138 - val_acc: 0.9132\n",
      "Epoch 43/200\n",
      "48000/48000 [==============================] - 1s 25us/step - loss: 0.3280 - acc: 0.9089 - val_loss: 0.3130 - val_acc: 0.9132\n",
      "Epoch 44/200\n",
      "48000/48000 [==============================] - 1s 24us/step - loss: 0.3270 - acc: 0.9091 - val_loss: 0.3121 - val_acc: 0.9132\n",
      "Epoch 45/200\n",
      "48000/48000 [==============================] - 1s 23us/step - loss: 0.3259 - acc: 0.9093 - val_loss: 0.3113 - val_acc: 0.9135\n",
      "Epoch 46/200\n",
      "48000/48000 [==============================] - 1s 22us/step - loss: 0.3249 - acc: 0.9095 - val_loss: 0.3105 - val_acc: 0.9137\n",
      "Epoch 47/200\n",
      "48000/48000 [==============================] - 1s 26us/step - loss: 0.3239 - acc: 0.9105 - val_loss: 0.3098 - val_acc: 0.9141\n",
      "Epoch 48/200\n",
      "48000/48000 [==============================] - 1s 25us/step - loss: 0.3230 - acc: 0.9105 - val_loss: 0.3090 - val_acc: 0.9146\n",
      "Epoch 49/200\n",
      "48000/48000 [==============================] - 1s 22us/step - loss: 0.3221 - acc: 0.9102 - val_loss: 0.3083 - val_acc: 0.9151\n",
      "Epoch 50/200\n",
      "48000/48000 [==============================] - 1s 25us/step - loss: 0.3212 - acc: 0.9109 - val_loss: 0.3075 - val_acc: 0.9150\n",
      "Epoch 51/200\n",
      "48000/48000 [==============================] - 1s 24us/step - loss: 0.3204 - acc: 0.9109 - val_loss: 0.3070 - val_acc: 0.9150\n",
      "Epoch 52/200\n",
      "48000/48000 [==============================] - 1s 25us/step - loss: 0.3195 - acc: 0.9112 - val_loss: 0.3063 - val_acc: 0.9148\n",
      "Epoch 53/200\n",
      "48000/48000 [==============================] - 1s 25us/step - loss: 0.3187 - acc: 0.9114 - val_loss: 0.3057 - val_acc: 0.9153\n",
      "Epoch 54/200\n",
      "48000/48000 [==============================] - 1s 21us/step - loss: 0.3180 - acc: 0.9117 - val_loss: 0.3050 - val_acc: 0.9148\n",
      "Epoch 55/200\n",
      "48000/48000 [==============================] - 1s 23us/step - loss: 0.3171 - acc: 0.9121 - val_loss: 0.3044 - val_acc: 0.9149\n",
      "Epoch 56/200\n",
      "48000/48000 [==============================] - 1s 24us/step - loss: 0.3164 - acc: 0.9121 - val_loss: 0.3037 - val_acc: 0.9156\n",
      "Epoch 57/200\n",
      "48000/48000 [==============================] - 1s 24us/step - loss: 0.3157 - acc: 0.9128 - val_loss: 0.3034 - val_acc: 0.9152\n",
      "Epoch 58/200\n",
      "48000/48000 [==============================] - 1s 24us/step - loss: 0.3149 - acc: 0.9121 - val_loss: 0.3029 - val_acc: 0.9148\n",
      "Epoch 59/200\n",
      "48000/48000 [==============================] - 1s 23us/step - loss: 0.3143 - acc: 0.9128 - val_loss: 0.3022 - val_acc: 0.9151\n",
      "Epoch 60/200\n",
      "48000/48000 [==============================] - 1s 22us/step - loss: 0.3136 - acc: 0.9129 - val_loss: 0.3016 - val_acc: 0.9161\n",
      "Epoch 61/200\n",
      "48000/48000 [==============================] - 1s 22us/step - loss: 0.3130 - acc: 0.9133 - val_loss: 0.3011 - val_acc: 0.9158\n",
      "Epoch 62/200\n",
      "48000/48000 [==============================] - 1s 23us/step - loss: 0.3123 - acc: 0.9131 - val_loss: 0.3007 - val_acc: 0.9151\n",
      "Epoch 63/200\n",
      "48000/48000 [==============================] - 1s 23us/step - loss: 0.3117 - acc: 0.9136 - val_loss: 0.3003 - val_acc: 0.9156\n",
      "Epoch 64/200\n",
      "48000/48000 [==============================] - 1s 25us/step - loss: 0.3110 - acc: 0.9137 - val_loss: 0.2997 - val_acc: 0.9158\n",
      "Epoch 65/200\n",
      "48000/48000 [==============================] - 1s 24us/step - loss: 0.3105 - acc: 0.9137 - val_loss: 0.2992 - val_acc: 0.9159\n",
      "Epoch 66/200\n",
      "48000/48000 [==============================] - 1s 24us/step - loss: 0.3098 - acc: 0.9138 - val_loss: 0.2988 - val_acc: 0.9161\n",
      "Epoch 67/200\n",
      "48000/48000 [==============================] - 1s 22us/step - loss: 0.3093 - acc: 0.9141 - val_loss: 0.2983 - val_acc: 0.9165\n",
      "Epoch 68/200\n",
      "48000/48000 [==============================] - 1s 24us/step - loss: 0.3087 - acc: 0.9139 - val_loss: 0.2979 - val_acc: 0.9166\n",
      "Epoch 69/200\n",
      "48000/48000 [==============================] - 1s 23us/step - loss: 0.3082 - acc: 0.9144 - val_loss: 0.2976 - val_acc: 0.9164\n",
      "Epoch 70/200\n",
      "48000/48000 [==============================] - 1s 23us/step - loss: 0.3077 - acc: 0.9145 - val_loss: 0.2971 - val_acc: 0.9166\n",
      "Epoch 71/200\n",
      "48000/48000 [==============================] - 1s 25us/step - loss: 0.3071 - acc: 0.9146 - val_loss: 0.2967 - val_acc: 0.9172\n",
      "Epoch 72/200\n",
      "48000/48000 [==============================] - 1s 23us/step - loss: 0.3066 - acc: 0.9147 - val_loss: 0.2964 - val_acc: 0.9167\n",
      "Epoch 73/200\n",
      "48000/48000 [==============================] - 1s 22us/step - loss: 0.3061 - acc: 0.9151 - val_loss: 0.2960 - val_acc: 0.9169\n",
      "Epoch 74/200\n",
      "48000/48000 [==============================] - 1s 21us/step - loss: 0.3056 - acc: 0.9150 - val_loss: 0.2956 - val_acc: 0.9173\n",
      "Epoch 75/200\n",
      "48000/48000 [==============================] - 1s 23us/step - loss: 0.3051 - acc: 0.9151 - val_loss: 0.2952 - val_acc: 0.9177\n",
      "Epoch 76/200\n",
      "48000/48000 [==============================] - 1s 25us/step - loss: 0.3046 - acc: 0.9152 - val_loss: 0.2950 - val_acc: 0.9173\n",
      "Epoch 77/200\n",
      "48000/48000 [==============================] - 1s 24us/step - loss: 0.3042 - acc: 0.9154 - val_loss: 0.2945 - val_acc: 0.9172\n",
      "Epoch 78/200\n",
      "48000/48000 [==============================] - 1s 23us/step - loss: 0.3037 - acc: 0.9154 - val_loss: 0.2942 - val_acc: 0.9176\n",
      "Epoch 79/200\n",
      "48000/48000 [==============================] - 1s 22us/step - loss: 0.3032 - acc: 0.9157 - val_loss: 0.2939 - val_acc: 0.9179\n",
      "Epoch 80/200\n",
      "48000/48000 [==============================] - 1s 22us/step - loss: 0.3028 - acc: 0.9156 - val_loss: 0.2936 - val_acc: 0.9177\n",
      "Epoch 81/200\n",
      "48000/48000 [==============================] - 1s 25us/step - loss: 0.3024 - acc: 0.9157 - val_loss: 0.2933 - val_acc: 0.9179\n",
      "Epoch 82/200\n",
      "48000/48000 [==============================] - 1s 24us/step - loss: 0.3019 - acc: 0.9157 - val_loss: 0.2930 - val_acc: 0.9178\n",
      "Epoch 83/200\n",
      "48000/48000 [==============================] - 1s 26us/step - loss: 0.3015 - acc: 0.9160 - val_loss: 0.2926 - val_acc: 0.9182\n",
      "Epoch 84/200\n",
      "48000/48000 [==============================] - 1s 22us/step - loss: 0.3011 - acc: 0.9161 - val_loss: 0.2924 - val_acc: 0.9179\n",
      "Epoch 85/200\n",
      "48000/48000 [==============================] - 1s 22us/step - loss: 0.3007 - acc: 0.9165 - val_loss: 0.2920 - val_acc: 0.9184\n",
      "Epoch 86/200\n",
      "48000/48000 [==============================] - 1s 22us/step - loss: 0.3003 - acc: 0.9164 - val_loss: 0.2918 - val_acc: 0.9185\n",
      "Epoch 87/200\n",
      "48000/48000 [==============================] - 1s 22us/step - loss: 0.2999 - acc: 0.9165 - val_loss: 0.2914 - val_acc: 0.9185\n",
      "Epoch 88/200\n",
      "48000/48000 [==============================] - 1s 23us/step - loss: 0.2995 - acc: 0.9166 - val_loss: 0.2911 - val_acc: 0.9188\n",
      "Epoch 89/200\n",
      "48000/48000 [==============================] - 1s 23us/step - loss: 0.2991 - acc: 0.9167 - val_loss: 0.2909 - val_acc: 0.9191\n",
      "Epoch 90/200\n",
      "48000/48000 [==============================] - 1s 24us/step - loss: 0.2988 - acc: 0.9169 - val_loss: 0.2906 - val_acc: 0.9191\n",
      "Epoch 91/200\n",
      "48000/48000 [==============================] - 1s 26us/step - loss: 0.2984 - acc: 0.9168 - val_loss: 0.2903 - val_acc: 0.9192\n",
      "Epoch 92/200\n",
      "48000/48000 [==============================] - 1s 21us/step - loss: 0.2981 - acc: 0.9170 - val_loss: 0.2901 - val_acc: 0.9196\n",
      "Epoch 93/200\n",
      "48000/48000 [==============================] - 1s 24us/step - loss: 0.2977 - acc: 0.9171 - val_loss: 0.2898 - val_acc: 0.9195\n",
      "Epoch 94/200\n",
      "48000/48000 [==============================] - 1s 22us/step - loss: 0.2973 - acc: 0.9172 - val_loss: 0.2895 - val_acc: 0.9196\n",
      "Epoch 95/200\n",
      "48000/48000 [==============================] - 1s 24us/step - loss: 0.2970 - acc: 0.9174 - val_loss: 0.2894 - val_acc: 0.9196\n",
      "Epoch 96/200\n",
      "48000/48000 [==============================] - 1s 26us/step - loss: 0.2967 - acc: 0.9174 - val_loss: 0.2891 - val_acc: 0.9198\n",
      "Epoch 97/200\n",
      "48000/48000 [==============================] - 1s 25us/step - loss: 0.2963 - acc: 0.9176 - val_loss: 0.2889 - val_acc: 0.9197\n",
      "Epoch 98/200\n",
      "48000/48000 [==============================] - 1s 24us/step - loss: 0.2960 - acc: 0.9174 - val_loss: 0.2886 - val_acc: 0.9202\n",
      "Epoch 99/200\n",
      "48000/48000 [==============================] - 1s 24us/step - loss: 0.2957 - acc: 0.9176 - val_loss: 0.2884 - val_acc: 0.9202\n",
      "Epoch 100/200\n",
      "48000/48000 [==============================] - 1s 23us/step - loss: 0.2953 - acc: 0.9178 - val_loss: 0.2882 - val_acc: 0.9200\n",
      "Epoch 101/200\n",
      "48000/48000 [==============================] - 1s 23us/step - loss: 0.2950 - acc: 0.9179 - val_loss: 0.2879 - val_acc: 0.9201\n",
      "Epoch 102/200\n",
      "48000/48000 [==============================] - 1s 23us/step - loss: 0.2947 - acc: 0.9180 - val_loss: 0.2877 - val_acc: 0.9204\n",
      "Epoch 103/200\n",
      "48000/48000 [==============================] - 1s 25us/step - loss: 0.2944 - acc: 0.9180 - val_loss: 0.2875 - val_acc: 0.9202\n",
      "Epoch 104/200\n",
      "48000/48000 [==============================] - 1s 24us/step - loss: 0.2941 - acc: 0.9184 - val_loss: 0.2873 - val_acc: 0.9202\n",
      "Epoch 105/200\n",
      "48000/48000 [==============================] - 1s 22us/step - loss: 0.2938 - acc: 0.9183 - val_loss: 0.2871 - val_acc: 0.9206\n",
      "Epoch 106/200\n",
      "48000/48000 [==============================] - 1s 23us/step - loss: 0.2935 - acc: 0.9183 - val_loss: 0.2868 - val_acc: 0.9202\n",
      "Epoch 107/200\n",
      "48000/48000 [==============================] - 1s 21us/step - loss: 0.2932 - acc: 0.9186 - val_loss: 0.2867 - val_acc: 0.9206\n",
      "Epoch 108/200\n",
      "48000/48000 [==============================] - 1s 23us/step - loss: 0.2929 - acc: 0.9185 - val_loss: 0.2864 - val_acc: 0.9208\n",
      "Epoch 109/200\n",
      "48000/48000 [==============================] - 1s 24us/step - loss: 0.2927 - acc: 0.9185 - val_loss: 0.2863 - val_acc: 0.9206\n",
      "Epoch 110/200\n",
      "48000/48000 [==============================] - 1s 25us/step - loss: 0.2923 - acc: 0.9187 - val_loss: 0.2860 - val_acc: 0.9204\n",
      "Epoch 111/200\n",
      "48000/48000 [==============================] - 1s 24us/step - loss: 0.2921 - acc: 0.9184 - val_loss: 0.2858 - val_acc: 0.9210\n",
      "Epoch 112/200\n",
      "48000/48000 [==============================] - 1s 26us/step - loss: 0.2918 - acc: 0.9187 - val_loss: 0.2857 - val_acc: 0.9207\n",
      "Epoch 113/200\n",
      "48000/48000 [==============================] - 1s 24us/step - loss: 0.2915 - acc: 0.9189 - val_loss: 0.2854 - val_acc: 0.9210\n",
      "Epoch 114/200\n",
      "48000/48000 [==============================] - 1s 23us/step - loss: 0.2913 - acc: 0.9188 - val_loss: 0.2853 - val_acc: 0.9211\n",
      "Epoch 115/200\n",
      "48000/48000 [==============================] - 1s 23us/step - loss: 0.2910 - acc: 0.9189 - val_loss: 0.2852 - val_acc: 0.9205\n",
      "Epoch 116/200\n",
      "48000/48000 [==============================] - 1s 20us/step - loss: 0.2908 - acc: 0.9189 - val_loss: 0.2849 - val_acc: 0.9213\n",
      "Epoch 117/200\n",
      "48000/48000 [==============================] - 1s 22us/step - loss: 0.2905 - acc: 0.9193 - val_loss: 0.2847 - val_acc: 0.9213\n"
     ]
    },
    {
     "name": "stdout",
     "output_type": "stream",
     "text": [
      "Epoch 118/200\n",
      "48000/48000 [==============================] - 1s 20us/step - loss: 0.2902 - acc: 0.9192 - val_loss: 0.2846 - val_acc: 0.9212\n",
      "Epoch 119/200\n",
      "48000/48000 [==============================] - 1s 20us/step - loss: 0.2900 - acc: 0.9191 - val_loss: 0.2844 - val_acc: 0.9212\n",
      "Epoch 120/200\n",
      "48000/48000 [==============================] - 1s 22us/step - loss: 0.2898 - acc: 0.9192 - val_loss: 0.2842 - val_acc: 0.9212\n",
      "Epoch 121/200\n",
      "48000/48000 [==============================] - 1s 23us/step - loss: 0.2895 - acc: 0.9191 - val_loss: 0.2841 - val_acc: 0.9212\n",
      "Epoch 122/200\n",
      "48000/48000 [==============================] - 1s 23us/step - loss: 0.2892 - acc: 0.9192 - val_loss: 0.2840 - val_acc: 0.9212\n",
      "Epoch 123/200\n",
      "48000/48000 [==============================] - 1s 24us/step - loss: 0.2890 - acc: 0.9194 - val_loss: 0.2838 - val_acc: 0.9211\n",
      "Epoch 124/200\n",
      "48000/48000 [==============================] - 1s 24us/step - loss: 0.2888 - acc: 0.9197 - val_loss: 0.2837 - val_acc: 0.9210\n",
      "Epoch 125/200\n",
      "48000/48000 [==============================] - 1s 21us/step - loss: 0.2885 - acc: 0.9193 - val_loss: 0.2835 - val_acc: 0.9207\n",
      "Epoch 126/200\n",
      "48000/48000 [==============================] - 1s 21us/step - loss: 0.2883 - acc: 0.9197 - val_loss: 0.2834 - val_acc: 0.9217\n",
      "Epoch 127/200\n",
      "48000/48000 [==============================] - 1s 26us/step - loss: 0.2881 - acc: 0.9194 - val_loss: 0.2832 - val_acc: 0.9212\n",
      "Epoch 128/200\n",
      "48000/48000 [==============================] - 1s 24us/step - loss: 0.2879 - acc: 0.9194 - val_loss: 0.2830 - val_acc: 0.9210\n",
      "Epoch 129/200\n",
      "48000/48000 [==============================] - 1s 24us/step - loss: 0.2876 - acc: 0.9196 - val_loss: 0.2828 - val_acc: 0.9217\n",
      "Epoch 130/200\n",
      "48000/48000 [==============================] - 1s 23us/step - loss: 0.2874 - acc: 0.9197 - val_loss: 0.2826 - val_acc: 0.9216\n",
      "Epoch 131/200\n",
      "48000/48000 [==============================] - 1s 23us/step - loss: 0.2871 - acc: 0.9200 - val_loss: 0.2827 - val_acc: 0.9211\n",
      "Epoch 132/200\n",
      "48000/48000 [==============================] - 1s 21us/step - loss: 0.2870 - acc: 0.9197 - val_loss: 0.2824 - val_acc: 0.9213\n",
      "Epoch 133/200\n",
      "48000/48000 [==============================] - 1s 22us/step - loss: 0.2868 - acc: 0.9198 - val_loss: 0.2823 - val_acc: 0.9216\n",
      "Epoch 134/200\n",
      "48000/48000 [==============================] - 1s 23us/step - loss: 0.2866 - acc: 0.9199 - val_loss: 0.2822 - val_acc: 0.9214\n",
      "Epoch 135/200\n",
      "48000/48000 [==============================] - 1s 25us/step - loss: 0.2863 - acc: 0.9203 - val_loss: 0.2820 - val_acc: 0.9213\n",
      "Epoch 136/200\n",
      "48000/48000 [==============================] - 1s 26us/step - loss: 0.2861 - acc: 0.9196 - val_loss: 0.2818 - val_acc: 0.9215\n",
      "Epoch 137/200\n",
      "48000/48000 [==============================] - 1s 23us/step - loss: 0.2859 - acc: 0.9198 - val_loss: 0.2818 - val_acc: 0.9217\n",
      "Epoch 138/200\n",
      "48000/48000 [==============================] - 1s 22us/step - loss: 0.2857 - acc: 0.9203 - val_loss: 0.2815 - val_acc: 0.9218\n",
      "Epoch 139/200\n",
      "48000/48000 [==============================] - 1s 23us/step - loss: 0.2855 - acc: 0.9203 - val_loss: 0.2814 - val_acc: 0.9215\n",
      "Epoch 140/200\n",
      "48000/48000 [==============================] - 1s 23us/step - loss: 0.2853 - acc: 0.9201 - val_loss: 0.2812 - val_acc: 0.9216\n",
      "Epoch 141/200\n",
      "48000/48000 [==============================] - 1s 27us/step - loss: 0.2852 - acc: 0.9204 - val_loss: 0.2811 - val_acc: 0.9217\n",
      "Epoch 142/200\n",
      "48000/48000 [==============================] - 1s 25us/step - loss: 0.2849 - acc: 0.9201 - val_loss: 0.2810 - val_acc: 0.9217\n",
      "Epoch 143/200\n",
      "48000/48000 [==============================] - 1s 22us/step - loss: 0.2848 - acc: 0.9205 - val_loss: 0.2809 - val_acc: 0.9219\n",
      "Epoch 144/200\n",
      "48000/48000 [==============================] - 1s 24us/step - loss: 0.2846 - acc: 0.9208 - val_loss: 0.2808 - val_acc: 0.9217\n",
      "Epoch 145/200\n",
      "48000/48000 [==============================] - 1s 22us/step - loss: 0.2844 - acc: 0.9207 - val_loss: 0.2806 - val_acc: 0.9221\n",
      "Epoch 146/200\n",
      "48000/48000 [==============================] - 1s 23us/step - loss: 0.2841 - acc: 0.9206 - val_loss: 0.2806 - val_acc: 0.9220\n",
      "Epoch 147/200\n",
      "48000/48000 [==============================] - 1s 25us/step - loss: 0.2840 - acc: 0.9207 - val_loss: 0.2804 - val_acc: 0.9217\n",
      "Epoch 148/200\n",
      "48000/48000 [==============================] - 1s 25us/step - loss: 0.2838 - acc: 0.9209 - val_loss: 0.2803 - val_acc: 0.9218\n",
      "Epoch 149/200\n",
      "48000/48000 [==============================] - 1s 22us/step - loss: 0.2836 - acc: 0.9208 - val_loss: 0.2802 - val_acc: 0.9216\n",
      "Epoch 150/200\n",
      "48000/48000 [==============================] - 1s 22us/step - loss: 0.2835 - acc: 0.9210 - val_loss: 0.2800 - val_acc: 0.9225\n",
      "Epoch 151/200\n",
      "48000/48000 [==============================] - 1s 19us/step - loss: 0.2833 - acc: 0.9210 - val_loss: 0.2799 - val_acc: 0.9226\n",
      "Epoch 152/200\n",
      "48000/48000 [==============================] - 1s 20us/step - loss: 0.2831 - acc: 0.9211 - val_loss: 0.2798 - val_acc: 0.9222\n",
      "Epoch 153/200\n",
      "48000/48000 [==============================] - 1s 20us/step - loss: 0.2829 - acc: 0.9207 - val_loss: 0.2797 - val_acc: 0.9224\n",
      "Epoch 154/200\n",
      "48000/48000 [==============================] - 1s 24us/step - loss: 0.2827 - acc: 0.9209 - val_loss: 0.2796 - val_acc: 0.9222\n",
      "Epoch 155/200\n",
      "48000/48000 [==============================] - 1s 26us/step - loss: 0.2826 - acc: 0.9208 - val_loss: 0.2795 - val_acc: 0.9225\n",
      "Epoch 156/200\n",
      "48000/48000 [==============================] - 1s 23us/step - loss: 0.2824 - acc: 0.9210 - val_loss: 0.2794 - val_acc: 0.9224\n",
      "Epoch 157/200\n",
      "48000/48000 [==============================] - 1s 22us/step - loss: 0.2822 - acc: 0.9210 - val_loss: 0.2793 - val_acc: 0.9224\n",
      "Epoch 158/200\n",
      "48000/48000 [==============================] - 1s 24us/step - loss: 0.2821 - acc: 0.9214 - val_loss: 0.2792 - val_acc: 0.9226\n",
      "Epoch 159/200\n",
      "48000/48000 [==============================] - 1s 21us/step - loss: 0.2819 - acc: 0.9214 - val_loss: 0.2791 - val_acc: 0.9226\n",
      "Epoch 160/200\n",
      "48000/48000 [==============================] - 1s 21us/step - loss: 0.2817 - acc: 0.9213 - val_loss: 0.2790 - val_acc: 0.9225\n",
      "Epoch 161/200\n",
      "48000/48000 [==============================] - 1s 23us/step - loss: 0.2816 - acc: 0.9214 - val_loss: 0.2789 - val_acc: 0.9222\n",
      "Epoch 162/200\n",
      "48000/48000 [==============================] - 1s 23us/step - loss: 0.2814 - acc: 0.9215 - val_loss: 0.2788 - val_acc: 0.9227\n",
      "Epoch 163/200\n",
      "48000/48000 [==============================] - 1s 22us/step - loss: 0.2812 - acc: 0.9213 - val_loss: 0.2787 - val_acc: 0.9225\n",
      "Epoch 164/200\n",
      "48000/48000 [==============================] - 1s 24us/step - loss: 0.2811 - acc: 0.9216 - val_loss: 0.2786 - val_acc: 0.9225\n",
      "Epoch 165/200\n",
      "48000/48000 [==============================] - 1s 22us/step - loss: 0.2809 - acc: 0.9215 - val_loss: 0.2785 - val_acc: 0.9227\n",
      "Epoch 166/200\n",
      "48000/48000 [==============================] - 1s 22us/step - loss: 0.2807 - acc: 0.9216 - val_loss: 0.2784 - val_acc: 0.9225\n",
      "Epoch 167/200\n",
      "48000/48000 [==============================] - 1s 26us/step - loss: 0.2806 - acc: 0.9217 - val_loss: 0.2784 - val_acc: 0.9227\n",
      "Epoch 168/200\n",
      "48000/48000 [==============================] - 1s 25us/step - loss: 0.2804 - acc: 0.9219 - val_loss: 0.2782 - val_acc: 0.9228\n",
      "Epoch 169/200\n",
      "48000/48000 [==============================] - 1s 26us/step - loss: 0.2803 - acc: 0.9216 - val_loss: 0.2782 - val_acc: 0.9227\n",
      "Epoch 170/200\n",
      "48000/48000 [==============================] - 1s 22us/step - loss: 0.2801 - acc: 0.9216 - val_loss: 0.2781 - val_acc: 0.9227\n",
      "Epoch 171/200\n",
      "48000/48000 [==============================] - 1s 23us/step - loss: 0.2800 - acc: 0.9220 - val_loss: 0.2780 - val_acc: 0.9226\n",
      "Epoch 172/200\n",
      "48000/48000 [==============================] - 1s 23us/step - loss: 0.2798 - acc: 0.9218 - val_loss: 0.2778 - val_acc: 0.9231\n",
      "Epoch 173/200\n",
      "48000/48000 [==============================] - 1s 23us/step - loss: 0.2797 - acc: 0.9217 - val_loss: 0.2778 - val_acc: 0.9229\n",
      "Epoch 174/200\n",
      "48000/48000 [==============================] - 1s 24us/step - loss: 0.2796 - acc: 0.9217 - val_loss: 0.2777 - val_acc: 0.9227\n",
      "Epoch 175/200\n",
      "48000/48000 [==============================] - 1s 27us/step - loss: 0.2794 - acc: 0.9218 - val_loss: 0.2776 - val_acc: 0.9232\n",
      "Epoch 176/200\n",
      "48000/48000 [==============================] - 1s 23us/step - loss: 0.2793 - acc: 0.9220 - val_loss: 0.2775 - val_acc: 0.9232\n",
      "Epoch 177/200\n",
      "48000/48000 [==============================] - 1s 24us/step - loss: 0.2791 - acc: 0.9219 - val_loss: 0.2774 - val_acc: 0.9234\n",
      "Epoch 178/200\n",
      "48000/48000 [==============================] - 1s 21us/step - loss: 0.2790 - acc: 0.9221 - val_loss: 0.2774 - val_acc: 0.9228\n",
      "Epoch 179/200\n",
      "48000/48000 [==============================] - 1s 21us/step - loss: 0.2788 - acc: 0.9221 - val_loss: 0.2773 - val_acc: 0.9232\n",
      "Epoch 180/200\n",
      "48000/48000 [==============================] - 1s 23us/step - loss: 0.2787 - acc: 0.9221 - val_loss: 0.2771 - val_acc: 0.9235\n",
      "Epoch 181/200\n",
      "48000/48000 [==============================] - 1s 25us/step - loss: 0.2785 - acc: 0.9223 - val_loss: 0.2770 - val_acc: 0.9232\n",
      "Epoch 182/200\n",
      "48000/48000 [==============================] - 1s 24us/step - loss: 0.2784 - acc: 0.9220 - val_loss: 0.2769 - val_acc: 0.9231\n",
      "Epoch 183/200\n",
      "48000/48000 [==============================] - 1s 23us/step - loss: 0.2783 - acc: 0.9223 - val_loss: 0.2769 - val_acc: 0.9231\n",
      "Epoch 184/200\n",
      "48000/48000 [==============================] - 1s 22us/step - loss: 0.2781 - acc: 0.9223 - val_loss: 0.2768 - val_acc: 0.9230\n",
      "Epoch 185/200\n",
      "48000/48000 [==============================] - 1s 22us/step - loss: 0.2780 - acc: 0.9224 - val_loss: 0.2767 - val_acc: 0.9233\n",
      "Epoch 186/200\n",
      "48000/48000 [==============================] - 1s 23us/step - loss: 0.2779 - acc: 0.9223 - val_loss: 0.2766 - val_acc: 0.9236\n",
      "Epoch 187/200\n",
      "48000/48000 [==============================] - 1s 23us/step - loss: 0.2777 - acc: 0.9224 - val_loss: 0.2766 - val_acc: 0.9233\n",
      "Epoch 188/200\n",
      "48000/48000 [==============================] - 1s 25us/step - loss: 0.2776 - acc: 0.9226 - val_loss: 0.2765 - val_acc: 0.9236\n",
      "Epoch 189/200\n",
      "48000/48000 [==============================] - 1s 24us/step - loss: 0.2775 - acc: 0.9225 - val_loss: 0.2764 - val_acc: 0.9235\n",
      "Epoch 190/200\n",
      "48000/48000 [==============================] - 1s 23us/step - loss: 0.2773 - acc: 0.9225 - val_loss: 0.2764 - val_acc: 0.9235\n",
      "Epoch 191/200\n",
      "48000/48000 [==============================] - 1s 22us/step - loss: 0.2772 - acc: 0.9225 - val_loss: 0.2763 - val_acc: 0.9237\n",
      "Epoch 192/200\n",
      "48000/48000 [==============================] - 1s 21us/step - loss: 0.2770 - acc: 0.9226 - val_loss: 0.2762 - val_acc: 0.9238\n",
      "Epoch 193/200\n",
      "48000/48000 [==============================] - 1s 24us/step - loss: 0.2770 - acc: 0.9226 - val_loss: 0.2761 - val_acc: 0.9237\n",
      "Epoch 194/200\n",
      "48000/48000 [==============================] - 1s 23us/step - loss: 0.2768 - acc: 0.9226 - val_loss: 0.2761 - val_acc: 0.9236\n",
      "Epoch 195/200\n",
      "48000/48000 [==============================] - 1s 28us/step - loss: 0.2767 - acc: 0.9231 - val_loss: 0.2760 - val_acc: 0.9239\n",
      "Epoch 196/200\n",
      "48000/48000 [==============================] - 1s 24us/step - loss: 0.2766 - acc: 0.9226 - val_loss: 0.2758 - val_acc: 0.9241\n",
      "Epoch 197/200\n",
      "48000/48000 [==============================] - 1s 22us/step - loss: 0.2765 - acc: 0.9229 - val_loss: 0.2758 - val_acc: 0.9242\n",
      "Epoch 198/200\n",
      "48000/48000 [==============================] - 1s 21us/step - loss: 0.2763 - acc: 0.9231 - val_loss: 0.2758 - val_acc: 0.9236\n",
      "Epoch 199/200\n",
      "48000/48000 [==============================] - 1s 24us/step - loss: 0.2762 - acc: 0.9229 - val_loss: 0.2757 - val_acc: 0.9241\n",
      "Epoch 200/200\n",
      "48000/48000 [==============================] - 1s 23us/step - loss: 0.2761 - acc: 0.9230 - val_loss: 0.2756 - val_acc: 0.9241\n"
     ]
    }
   ],
   "source": [
    "history = model.fit(X_train,Y_train,batch_size=BATCH_SIZE,epochs=NB_EPOCH,verbose=VERBOSE,validation_split=VALIDATION_SPLIT)"
   ]
  },
  {
   "cell_type": "code",
   "execution_count": 42,
   "metadata": {
    "ExecuteTime": {
     "end_time": "2019-05-04T04:36:56.266391Z",
     "start_time": "2019-05-04T04:36:55.714196Z"
    }
   },
   "outputs": [
    {
     "name": "stdout",
     "output_type": "stream",
     "text": [
      "10000/10000 [==============================] - 1s 53us/step\n"
     ]
    }
   ],
   "source": [
    "score = model.evaluate(X_test,Y_test,verbose=VERBOSE)"
   ]
  },
  {
   "cell_type": "code",
   "execution_count": 43,
   "metadata": {
    "ExecuteTime": {
     "end_time": "2019-05-04T04:37:12.473411Z",
     "start_time": "2019-05-04T04:37:12.468501Z"
    }
   },
   "outputs": [
    {
     "name": "stdout",
     "output_type": "stream",
     "text": [
      "Test score: 0.2773858499318361\n"
     ]
    }
   ],
   "source": [
    "print('Test score:',score[0])"
   ]
  },
  {
   "cell_type": "code",
   "execution_count": 44,
   "metadata": {
    "ExecuteTime": {
     "end_time": "2019-05-04T04:37:25.274675Z",
     "start_time": "2019-05-04T04:37:25.270293Z"
    }
   },
   "outputs": [
    {
     "name": "stdout",
     "output_type": "stream",
     "text": [
      "Test accuracy: 0.9227\n"
     ]
    }
   ],
   "source": [
    "print('Test accuracy:',score[1])"
   ]
  },
  {
   "cell_type": "code",
   "execution_count": 46,
   "metadata": {
    "ExecuteTime": {
     "end_time": "2019-05-04T04:40:04.322420Z",
     "start_time": "2019-05-04T04:40:04.219911Z"
    }
   },
   "outputs": [
    {
     "name": "stdout",
     "output_type": "stream",
     "text": [
      "_________________________________________________________________\n",
      "Layer (type)                 Output Shape              Param #   \n",
      "=================================================================\n",
      "dense_4 (Dense)              (None, 128)               100480    \n",
      "_________________________________________________________________\n",
      "activation_3 (Activation)    (None, 128)               0         \n",
      "_________________________________________________________________\n",
      "dense_5 (Dense)              (None, 128)               16512     \n",
      "_________________________________________________________________\n",
      "activation_4 (Activation)    (None, 128)               0         \n",
      "_________________________________________________________________\n",
      "dense_6 (Dense)              (None, 10)                1290      \n",
      "_________________________________________________________________\n",
      "activation_5 (Activation)    (None, 10)                0         \n",
      "=================================================================\n",
      "Total params: 118,282\n",
      "Trainable params: 118,282\n",
      "Non-trainable params: 0\n",
      "_________________________________________________________________\n"
     ]
    }
   ],
   "source": [
    "model= Sequential()\n",
    "model.add(Dense(N_HIDDEN,input_shape=(RESHAPED,)))\n",
    "model.add(Activation('relu'))\n",
    "model.add(Dense(N_HIDDEN))\n",
    "model.add(Activation('relu'))\n",
    "model.add(Dense(NB_CLASSES))\n",
    "model.add(Activation('softmax'))\n",
    "model.summary()"
   ]
  },
  {
   "cell_type": "code",
   "execution_count": 48,
   "metadata": {
    "ExecuteTime": {
     "end_time": "2019-05-04T04:47:30.014477Z",
     "start_time": "2019-05-04T04:40:55.732884Z"
    }
   },
   "outputs": [
    {
     "name": "stdout",
     "output_type": "stream",
     "text": [
      "Train on 48000 samples, validate on 12000 samples\n",
      "Epoch 1/200\n",
      "48000/48000 [==============================] - 4s 73us/step - loss: 1.4339 - acc: 0.6390 - val_loss: 0.7001 - val_acc: 0.8443\n",
      "Epoch 2/200\n",
      "48000/48000 [==============================] - 2s 45us/step - loss: 0.5689 - acc: 0.8572 - val_loss: 0.4317 - val_acc: 0.8867\n",
      "Epoch 3/200\n",
      "48000/48000 [==============================] - 2s 42us/step - loss: 0.4232 - acc: 0.8845 - val_loss: 0.3577 - val_acc: 0.9022\n",
      "Epoch 4/200\n",
      "48000/48000 [==============================] - 2s 45us/step - loss: 0.3675 - acc: 0.8974 - val_loss: 0.3248 - val_acc: 0.9090\n",
      "Epoch 5/200\n",
      "48000/48000 [==============================] - 2s 45us/step - loss: 0.3350 - acc: 0.9051 - val_loss: 0.2998 - val_acc: 0.9159\n",
      "Epoch 6/200\n",
      "48000/48000 [==============================] - 2s 42us/step - loss: 0.3124 - acc: 0.9114 - val_loss: 0.2835 - val_acc: 0.9206\n",
      "Epoch 7/200\n",
      "48000/48000 [==============================] - 2s 41us/step - loss: 0.2948 - acc: 0.9161 - val_loss: 0.2717 - val_acc: 0.9231\n",
      "Epoch 8/200\n",
      "48000/48000 [==============================] - 2s 45us/step - loss: 0.2802 - acc: 0.9203 - val_loss: 0.2579 - val_acc: 0.9270\n",
      "Epoch 9/200\n",
      "48000/48000 [==============================] - 2s 44us/step - loss: 0.2676 - acc: 0.9237 - val_loss: 0.2498 - val_acc: 0.9303\n",
      "Epoch 10/200\n",
      "48000/48000 [==============================] - 2s 44us/step - loss: 0.2566 - acc: 0.9263 - val_loss: 0.2407 - val_acc: 0.9320\n",
      "Epoch 11/200\n",
      "48000/48000 [==============================] - 2s 41us/step - loss: 0.2470 - acc: 0.9293 - val_loss: 0.2339 - val_acc: 0.9348\n",
      "Epoch 12/200\n",
      "48000/48000 [==============================] - 2s 42us/step - loss: 0.2379 - acc: 0.9325 - val_loss: 0.2258 - val_acc: 0.9366\n",
      "Epoch 13/200\n",
      "48000/48000 [==============================] - 2s 43us/step - loss: 0.2299 - acc: 0.9338 - val_loss: 0.2185 - val_acc: 0.9394\n",
      "Epoch 14/200\n",
      "48000/48000 [==============================] - 2s 42us/step - loss: 0.2221 - acc: 0.9362 - val_loss: 0.2137 - val_acc: 0.9407\n",
      "Epoch 15/200\n",
      "48000/48000 [==============================] - 2s 42us/step - loss: 0.2150 - acc: 0.9389 - val_loss: 0.2066 - val_acc: 0.9418\n",
      "Epoch 16/200\n",
      "48000/48000 [==============================] - 2s 43us/step - loss: 0.2084 - acc: 0.9406 - val_loss: 0.2022 - val_acc: 0.9436\n",
      "Epoch 17/200\n",
      "48000/48000 [==============================] - 2s 39us/step - loss: 0.2023 - acc: 0.9421 - val_loss: 0.1968 - val_acc: 0.9458\n",
      "Epoch 18/200\n",
      "48000/48000 [==============================] - 2s 42us/step - loss: 0.1963 - acc: 0.9438 - val_loss: 0.1919 - val_acc: 0.9472\n",
      "Epoch 19/200\n",
      "48000/48000 [==============================] - 2s 42us/step - loss: 0.1909 - acc: 0.9452 - val_loss: 0.1880 - val_acc: 0.9479\n",
      "Epoch 20/200\n",
      "48000/48000 [==============================] - 2s 42us/step - loss: 0.1855 - acc: 0.9470 - val_loss: 0.1845 - val_acc: 0.9496\n",
      "Epoch 21/200\n",
      "48000/48000 [==============================] - 2s 42us/step - loss: 0.1807 - acc: 0.9479 - val_loss: 0.1807 - val_acc: 0.9497\n",
      "Epoch 22/200\n",
      "48000/48000 [==============================] - 2s 41us/step - loss: 0.1759 - acc: 0.9495 - val_loss: 0.1757 - val_acc: 0.9513\n",
      "Epoch 23/200\n",
      "48000/48000 [==============================] - 2s 40us/step - loss: 0.1713 - acc: 0.9502 - val_loss: 0.1724 - val_acc: 0.9523\n",
      "Epoch 24/200\n",
      "48000/48000 [==============================] - 2s 41us/step - loss: 0.1670 - acc: 0.9522 - val_loss: 0.1693 - val_acc: 0.9525\n",
      "Epoch 25/200\n",
      "48000/48000 [==============================] - 2s 44us/step - loss: 0.1631 - acc: 0.9535 - val_loss: 0.1660 - val_acc: 0.9542\n",
      "Epoch 26/200\n",
      "48000/48000 [==============================] - 2s 42us/step - loss: 0.1590 - acc: 0.9541 - val_loss: 0.1635 - val_acc: 0.9557\n",
      "Epoch 27/200\n",
      "48000/48000 [==============================] - 2s 40us/step - loss: 0.1553 - acc: 0.9553 - val_loss: 0.1605 - val_acc: 0.9568\n",
      "Epoch 28/200\n",
      "48000/48000 [==============================] - 2s 41us/step - loss: 0.1518 - acc: 0.9564 - val_loss: 0.1585 - val_acc: 0.9566\n",
      "Epoch 29/200\n",
      "48000/48000 [==============================] - 2s 41us/step - loss: 0.1485 - acc: 0.9575 - val_loss: 0.1552 - val_acc: 0.9570\n",
      "Epoch 30/200\n",
      "48000/48000 [==============================] - 2s 42us/step - loss: 0.1450 - acc: 0.9583 - val_loss: 0.1520 - val_acc: 0.9581\n",
      "Epoch 31/200\n",
      "48000/48000 [==============================] - 2s 42us/step - loss: 0.1420 - acc: 0.9594 - val_loss: 0.1506 - val_acc: 0.9595\n",
      "Epoch 32/200\n",
      "48000/48000 [==============================] - 2s 40us/step - loss: 0.1392 - acc: 0.9600 - val_loss: 0.1484 - val_acc: 0.9597\n",
      "Epoch 33/200\n",
      "48000/48000 [==============================] - 2s 41us/step - loss: 0.1359 - acc: 0.9609 - val_loss: 0.1463 - val_acc: 0.9604\n",
      "Epoch 34/200\n",
      "48000/48000 [==============================] - 2s 43us/step - loss: 0.1333 - acc: 0.9620 - val_loss: 0.1442 - val_acc: 0.9608\n",
      "Epoch 35/200\n",
      "48000/48000 [==============================] - 2s 42us/step - loss: 0.1306 - acc: 0.9627 - val_loss: 0.1421 - val_acc: 0.9624\n",
      "Epoch 36/200\n",
      "48000/48000 [==============================] - 2s 39us/step - loss: 0.1278 - acc: 0.9630 - val_loss: 0.1405 - val_acc: 0.9624\n",
      "Epoch 37/200\n",
      "48000/48000 [==============================] - 2s 42us/step - loss: 0.1253 - acc: 0.9640 - val_loss: 0.1392 - val_acc: 0.9617\n",
      "Epoch 38/200\n",
      "48000/48000 [==============================] - 2s 41us/step - loss: 0.1230 - acc: 0.9644 - val_loss: 0.1375 - val_acc: 0.9628\n",
      "Epoch 39/200\n",
      "48000/48000 [==============================] - 2s 43us/step - loss: 0.1207 - acc: 0.9656 - val_loss: 0.1355 - val_acc: 0.9636\n",
      "Epoch 40/200\n",
      "48000/48000 [==============================] - 2s 42us/step - loss: 0.1184 - acc: 0.9657 - val_loss: 0.1340 - val_acc: 0.9643\n",
      "Epoch 41/200\n",
      "48000/48000 [==============================] - 2s 41us/step - loss: 0.1162 - acc: 0.9668 - val_loss: 0.1329 - val_acc: 0.9645\n",
      "Epoch 42/200\n",
      "48000/48000 [==============================] - 2s 40us/step - loss: 0.1141 - acc: 0.9676 - val_loss: 0.1310 - val_acc: 0.9647\n",
      "Epoch 43/200\n",
      "48000/48000 [==============================] - 2s 40us/step - loss: 0.1121 - acc: 0.9682 - val_loss: 0.1304 - val_acc: 0.9645\n",
      "Epoch 44/200\n",
      "48000/48000 [==============================] - 2s 43us/step - loss: 0.1101 - acc: 0.9687 - val_loss: 0.1289 - val_acc: 0.9657\n",
      "Epoch 45/200\n",
      "48000/48000 [==============================] - 2s 40us/step - loss: 0.1079 - acc: 0.9697 - val_loss: 0.1276 - val_acc: 0.9652\n",
      "Epoch 46/200\n",
      "48000/48000 [==============================] - 2s 40us/step - loss: 0.1061 - acc: 0.9702 - val_loss: 0.1267 - val_acc: 0.9656\n",
      "Epoch 47/200\n",
      "48000/48000 [==============================] - 2s 41us/step - loss: 0.1045 - acc: 0.9705 - val_loss: 0.1248 - val_acc: 0.9658\n",
      "Epoch 48/200\n",
      "48000/48000 [==============================] - 2s 41us/step - loss: 0.1025 - acc: 0.9713 - val_loss: 0.1236 - val_acc: 0.9658\n",
      "Epoch 49/200\n",
      "48000/48000 [==============================] - 2s 41us/step - loss: 0.1008 - acc: 0.9719 - val_loss: 0.1231 - val_acc: 0.9668\n",
      "Epoch 50/200\n",
      "48000/48000 [==============================] - 2s 39us/step - loss: 0.0992 - acc: 0.9722 - val_loss: 0.1213 - val_acc: 0.9657\n",
      "Epoch 51/200\n",
      "48000/48000 [==============================] - 2s 38us/step - loss: 0.0975 - acc: 0.9725 - val_loss: 0.1207 - val_acc: 0.9670\n",
      "Epoch 52/200\n",
      "48000/48000 [==============================] - 2s 40us/step - loss: 0.0958 - acc: 0.9733 - val_loss: 0.1193 - val_acc: 0.9668\n",
      "Epoch 53/200\n",
      "48000/48000 [==============================] - 2s 42us/step - loss: 0.0943 - acc: 0.9733 - val_loss: 0.1189 - val_acc: 0.9675\n",
      "Epoch 54/200\n",
      "48000/48000 [==============================] - 2s 42us/step - loss: 0.0928 - acc: 0.9740 - val_loss: 0.1175 - val_acc: 0.9676\n",
      "Epoch 55/200\n",
      "48000/48000 [==============================] - 2s 40us/step - loss: 0.0911 - acc: 0.9744 - val_loss: 0.1174 - val_acc: 0.9675\n",
      "Epoch 56/200\n",
      "48000/48000 [==============================] - 2s 39us/step - loss: 0.0898 - acc: 0.9748 - val_loss: 0.1158 - val_acc: 0.9681\n",
      "Epoch 57/200\n",
      "48000/48000 [==============================] - 2s 40us/step - loss: 0.0884 - acc: 0.9751 - val_loss: 0.1151 - val_acc: 0.9680\n",
      "Epoch 58/200\n",
      "48000/48000 [==============================] - 2s 41us/step - loss: 0.0871 - acc: 0.9756 - val_loss: 0.1141 - val_acc: 0.9677\n",
      "Epoch 59/200\n",
      "48000/48000 [==============================] - 2s 41us/step - loss: 0.0858 - acc: 0.9762 - val_loss: 0.1142 - val_acc: 0.9679\n",
      "Epoch 60/200\n",
      "48000/48000 [==============================] - 2s 41us/step - loss: 0.0844 - acc: 0.9763 - val_loss: 0.1124 - val_acc: 0.9679\n",
      "Epoch 61/200\n",
      "48000/48000 [==============================] - 2s 42us/step - loss: 0.0832 - acc: 0.9768 - val_loss: 0.1130 - val_acc: 0.9681\n",
      "Epoch 62/200\n",
      "48000/48000 [==============================] - 2s 44us/step - loss: 0.0818 - acc: 0.9777 - val_loss: 0.1121 - val_acc: 0.9675\n",
      "Epoch 63/200\n",
      "48000/48000 [==============================] - 2s 41us/step - loss: 0.0808 - acc: 0.9773 - val_loss: 0.1098 - val_acc: 0.9692\n",
      "Epoch 64/200\n",
      "48000/48000 [==============================] - 2s 41us/step - loss: 0.0795 - acc: 0.9779 - val_loss: 0.1097 - val_acc: 0.9690\n",
      "Epoch 65/200\n",
      "48000/48000 [==============================] - 2s 42us/step - loss: 0.0783 - acc: 0.9782 - val_loss: 0.1096 - val_acc: 0.9683\n",
      "Epoch 66/200\n",
      "48000/48000 [==============================] - 2s 43us/step - loss: 0.0772 - acc: 0.9785 - val_loss: 0.1088 - val_acc: 0.9677\n",
      "Epoch 67/200\n",
      "48000/48000 [==============================] - 2s 42us/step - loss: 0.0761 - acc: 0.9786 - val_loss: 0.1075 - val_acc: 0.9691\n",
      "Epoch 68/200\n",
      "48000/48000 [==============================] - 2s 40us/step - loss: 0.0750 - acc: 0.9794 - val_loss: 0.1068 - val_acc: 0.9692\n",
      "Epoch 69/200\n",
      "48000/48000 [==============================] - 2s 40us/step - loss: 0.0740 - acc: 0.9797 - val_loss: 0.1069 - val_acc: 0.9690\n",
      "Epoch 70/200\n",
      "48000/48000 [==============================] - 2s 42us/step - loss: 0.0728 - acc: 0.9797 - val_loss: 0.1055 - val_acc: 0.9698\n",
      "Epoch 71/200\n",
      "48000/48000 [==============================] - 2s 43us/step - loss: 0.0717 - acc: 0.9800 - val_loss: 0.1057 - val_acc: 0.9691\n",
      "Epoch 72/200\n",
      "48000/48000 [==============================] - 2s 41us/step - loss: 0.0708 - acc: 0.9801 - val_loss: 0.1051 - val_acc: 0.9700\n",
      "Epoch 73/200\n",
      "48000/48000 [==============================] - 2s 41us/step - loss: 0.0698 - acc: 0.9809 - val_loss: 0.1051 - val_acc: 0.9705\n",
      "Epoch 74/200\n",
      "48000/48000 [==============================] - 2s 40us/step - loss: 0.0688 - acc: 0.9811 - val_loss: 0.1038 - val_acc: 0.9697\n",
      "Epoch 75/200\n",
      "48000/48000 [==============================] - 2s 42us/step - loss: 0.0680 - acc: 0.9813 - val_loss: 0.1032 - val_acc: 0.9704\n",
      "Epoch 76/200\n",
      "48000/48000 [==============================] - 2s 43us/step - loss: 0.0670 - acc: 0.9814 - val_loss: 0.1024 - val_acc: 0.9704\n",
      "Epoch 77/200\n",
      "48000/48000 [==============================] - 2s 41us/step - loss: 0.0661 - acc: 0.9819 - val_loss: 0.1028 - val_acc: 0.9701\n",
      "Epoch 78/200\n",
      "48000/48000 [==============================] - 2s 39us/step - loss: 0.0652 - acc: 0.9821 - val_loss: 0.1015 - val_acc: 0.9705\n",
      "Epoch 79/200\n",
      "48000/48000 [==============================] - 2s 41us/step - loss: 0.0643 - acc: 0.9825 - val_loss: 0.1011 - val_acc: 0.9704\n",
      "Epoch 80/200\n",
      "48000/48000 [==============================] - 2s 42us/step - loss: 0.0635 - acc: 0.9829 - val_loss: 0.1008 - val_acc: 0.9704\n",
      "Epoch 81/200\n",
      "48000/48000 [==============================] - 2s 42us/step - loss: 0.0628 - acc: 0.9829 - val_loss: 0.1002 - val_acc: 0.9714\n",
      "Epoch 82/200\n",
      "48000/48000 [==============================] - 2s 43us/step - loss: 0.0617 - acc: 0.9834 - val_loss: 0.1006 - val_acc: 0.9707\n",
      "Epoch 83/200\n",
      "48000/48000 [==============================] - 2s 40us/step - loss: 0.0609 - acc: 0.9832 - val_loss: 0.0998 - val_acc: 0.9712\n",
      "Epoch 84/200\n",
      "48000/48000 [==============================] - 2s 39us/step - loss: 0.0601 - acc: 0.9834 - val_loss: 0.0997 - val_acc: 0.9707\n",
      "Epoch 85/200\n",
      "48000/48000 [==============================] - 2s 41us/step - loss: 0.0594 - acc: 0.9836 - val_loss: 0.0994 - val_acc: 0.9718\n",
      "Epoch 86/200\n",
      "48000/48000 [==============================] - 2s 43us/step - loss: 0.0586 - acc: 0.9844 - val_loss: 0.0991 - val_acc: 0.9707\n",
      "Epoch 87/200\n",
      "48000/48000 [==============================] - 2s 42us/step - loss: 0.0579 - acc: 0.9845 - val_loss: 0.0989 - val_acc: 0.9711\n",
      "Epoch 88/200\n",
      "48000/48000 [==============================] - 2s 40us/step - loss: 0.0571 - acc: 0.9851 - val_loss: 0.0987 - val_acc: 0.9710\n",
      "Epoch 89/200\n",
      "48000/48000 [==============================] - 2s 39us/step - loss: 0.0562 - acc: 0.9853 - val_loss: 0.0984 - val_acc: 0.9713\n",
      "Epoch 90/200\n",
      "48000/48000 [==============================] - 2s 43us/step - loss: 0.0557 - acc: 0.9852 - val_loss: 0.0969 - val_acc: 0.9717\n",
      "Epoch 91/200\n",
      "48000/48000 [==============================] - 2s 43us/step - loss: 0.0548 - acc: 0.9856 - val_loss: 0.0968 - val_acc: 0.9722\n",
      "Epoch 92/200\n",
      "48000/48000 [==============================] - 2s 40us/step - loss: 0.0541 - acc: 0.9862 - val_loss: 0.0972 - val_acc: 0.9711\n",
      "Epoch 93/200\n",
      "48000/48000 [==============================] - 2s 39us/step - loss: 0.0536 - acc: 0.9863 - val_loss: 0.0964 - val_acc: 0.9720\n",
      "Epoch 94/200\n",
      "48000/48000 [==============================] - 2s 41us/step - loss: 0.0528 - acc: 0.9862 - val_loss: 0.0963 - val_acc: 0.9721\n",
      "Epoch 95/200\n",
      "48000/48000 [==============================] - 2s 43us/step - loss: 0.0521 - acc: 0.9865 - val_loss: 0.0967 - val_acc: 0.9722\n",
      "Epoch 96/200\n",
      "48000/48000 [==============================] - 2s 40us/step - loss: 0.0514 - acc: 0.9865 - val_loss: 0.0961 - val_acc: 0.9720\n",
      "Epoch 97/200\n",
      "48000/48000 [==============================] - 2s 41us/step - loss: 0.0508 - acc: 0.9869 - val_loss: 0.0957 - val_acc: 0.9717\n",
      "Epoch 98/200\n",
      "48000/48000 [==============================] - 2s 40us/step - loss: 0.0501 - acc: 0.9871 - val_loss: 0.0956 - val_acc: 0.9718\n",
      "Epoch 99/200\n",
      "48000/48000 [==============================] - 2s 42us/step - loss: 0.0497 - acc: 0.9871 - val_loss: 0.0947 - val_acc: 0.9722\n",
      "Epoch 100/200\n",
      "48000/48000 [==============================] - 2s 42us/step - loss: 0.0491 - acc: 0.9873 - val_loss: 0.0950 - val_acc: 0.9721\n",
      "Epoch 101/200\n",
      "48000/48000 [==============================] - 2s 41us/step - loss: 0.0484 - acc: 0.9878 - val_loss: 0.0952 - val_acc: 0.9714\n",
      "Epoch 102/200\n",
      "48000/48000 [==============================] - 2s 39us/step - loss: 0.0478 - acc: 0.9879 - val_loss: 0.0937 - val_acc: 0.9727\n",
      "Epoch 103/200\n",
      "48000/48000 [==============================] - 2s 41us/step - loss: 0.0473 - acc: 0.9877 - val_loss: 0.0941 - val_acc: 0.9722\n",
      "Epoch 104/200\n",
      "48000/48000 [==============================] - 2s 42us/step - loss: 0.0467 - acc: 0.9879 - val_loss: 0.0940 - val_acc: 0.9726\n",
      "Epoch 105/200\n",
      "48000/48000 [==============================] - 2s 40us/step - loss: 0.0461 - acc: 0.9882 - val_loss: 0.0940 - val_acc: 0.9722\n",
      "Epoch 106/200\n",
      "48000/48000 [==============================] - 2s 39us/step - loss: 0.0455 - acc: 0.9886 - val_loss: 0.0955 - val_acc: 0.9712\n",
      "Epoch 107/200\n",
      "48000/48000 [==============================] - 2s 40us/step - loss: 0.0451 - acc: 0.9886 - val_loss: 0.0931 - val_acc: 0.9725\n",
      "Epoch 108/200\n",
      "48000/48000 [==============================] - 2s 43us/step - loss: 0.0444 - acc: 0.9885 - val_loss: 0.0934 - val_acc: 0.9719\n",
      "Epoch 109/200\n",
      "48000/48000 [==============================] - 2s 41us/step - loss: 0.0439 - acc: 0.9889 - val_loss: 0.0928 - val_acc: 0.9729\n",
      "Epoch 110/200\n",
      "48000/48000 [==============================] - 2s 40us/step - loss: 0.0435 - acc: 0.9893 - val_loss: 0.0934 - val_acc: 0.9722\n",
      "Epoch 111/200\n",
      "48000/48000 [==============================] - 2s 40us/step - loss: 0.0429 - acc: 0.9895 - val_loss: 0.0929 - val_acc: 0.9727\n",
      "Epoch 112/200\n",
      "48000/48000 [==============================] - 2s 42us/step - loss: 0.0425 - acc: 0.9894 - val_loss: 0.0928 - val_acc: 0.9727\n",
      "Epoch 113/200\n",
      "48000/48000 [==============================] - 2s 43us/step - loss: 0.0420 - acc: 0.9893 - val_loss: 0.0926 - val_acc: 0.9732\n",
      "Epoch 114/200\n",
      "48000/48000 [==============================] - 2s 37us/step - loss: 0.0414 - acc: 0.9896 - val_loss: 0.0916 - val_acc: 0.9733\n",
      "Epoch 115/200\n",
      "48000/48000 [==============================] - 2s 41us/step - loss: 0.0409 - acc: 0.9901 - val_loss: 0.0924 - val_acc: 0.9727\n",
      "Epoch 116/200\n",
      "48000/48000 [==============================] - 2s 39us/step - loss: 0.0405 - acc: 0.9901 - val_loss: 0.0927 - val_acc: 0.9723\n",
      "Epoch 117/200\n",
      "48000/48000 [==============================] - 2s 43us/step - loss: 0.0400 - acc: 0.9904 - val_loss: 0.0919 - val_acc: 0.9729\n"
     ]
    },
    {
     "name": "stdout",
     "output_type": "stream",
     "text": [
      "Epoch 118/200\n",
      "48000/48000 [==============================] - 2s 42us/step - loss: 0.0395 - acc: 0.9902 - val_loss: 0.0919 - val_acc: 0.9729\n",
      "Epoch 119/200\n",
      "48000/48000 [==============================] - 2s 39us/step - loss: 0.0391 - acc: 0.9907 - val_loss: 0.0930 - val_acc: 0.9727\n",
      "Epoch 120/200\n",
      "48000/48000 [==============================] - 2s 41us/step - loss: 0.0386 - acc: 0.9908 - val_loss: 0.0914 - val_acc: 0.9732\n",
      "Epoch 121/200\n",
      "48000/48000 [==============================] - 2s 44us/step - loss: 0.0382 - acc: 0.9910 - val_loss: 0.0911 - val_acc: 0.9736\n",
      "Epoch 122/200\n",
      "48000/48000 [==============================] - 2s 41us/step - loss: 0.0377 - acc: 0.9913 - val_loss: 0.0913 - val_acc: 0.9727\n",
      "Epoch 123/200\n",
      "48000/48000 [==============================] - 2s 41us/step - loss: 0.0373 - acc: 0.9915 - val_loss: 0.0917 - val_acc: 0.9728\n",
      "Epoch 124/200\n",
      "48000/48000 [==============================] - 2s 41us/step - loss: 0.0368 - acc: 0.9915 - val_loss: 0.0922 - val_acc: 0.9728\n",
      "Epoch 125/200\n",
      "48000/48000 [==============================] - 2s 44us/step - loss: 0.0364 - acc: 0.9916 - val_loss: 0.0910 - val_acc: 0.9739\n",
      "Epoch 126/200\n",
      "48000/48000 [==============================] - 2s 41us/step - loss: 0.0360 - acc: 0.9913 - val_loss: 0.0904 - val_acc: 0.9732\n",
      "Epoch 127/200\n",
      "48000/48000 [==============================] - 2s 40us/step - loss: 0.0356 - acc: 0.9919 - val_loss: 0.0906 - val_acc: 0.9732\n",
      "Epoch 128/200\n",
      "48000/48000 [==============================] - 2s 41us/step - loss: 0.0352 - acc: 0.9920 - val_loss: 0.0906 - val_acc: 0.9735\n",
      "Epoch 129/200\n",
      "48000/48000 [==============================] - 2s 43us/step - loss: 0.0347 - acc: 0.9920 - val_loss: 0.0902 - val_acc: 0.9743\n",
      "Epoch 130/200\n",
      "48000/48000 [==============================] - 2s 42us/step - loss: 0.0345 - acc: 0.9922 - val_loss: 0.0904 - val_acc: 0.9734\n",
      "Epoch 131/200\n",
      "48000/48000 [==============================] - 2s 37us/step - loss: 0.0340 - acc: 0.9923 - val_loss: 0.0904 - val_acc: 0.9740\n",
      "Epoch 132/200\n",
      "48000/48000 [==============================] - 2s 37us/step - loss: 0.0337 - acc: 0.9925 - val_loss: 0.0900 - val_acc: 0.9737\n",
      "Epoch 133/200\n",
      "48000/48000 [==============================] - 2s 38us/step - loss: 0.0332 - acc: 0.9926 - val_loss: 0.0899 - val_acc: 0.9738\n",
      "Epoch 134/200\n",
      "48000/48000 [==============================] - 2s 37us/step - loss: 0.0329 - acc: 0.9925 - val_loss: 0.0896 - val_acc: 0.9743\n",
      "Epoch 135/200\n",
      "48000/48000 [==============================] - 2s 37us/step - loss: 0.0325 - acc: 0.9930 - val_loss: 0.0895 - val_acc: 0.9742\n",
      "Epoch 136/200\n",
      "48000/48000 [==============================] - 2s 37us/step - loss: 0.0321 - acc: 0.9930 - val_loss: 0.0895 - val_acc: 0.9737\n",
      "Epoch 137/200\n",
      "48000/48000 [==============================] - 2s 38us/step - loss: 0.0317 - acc: 0.9930 - val_loss: 0.0904 - val_acc: 0.9738\n",
      "Epoch 138/200\n",
      "48000/48000 [==============================] - 2s 36us/step - loss: 0.0313 - acc: 0.9932 - val_loss: 0.0894 - val_acc: 0.9733\n",
      "Epoch 139/200\n",
      "48000/48000 [==============================] - 2s 38us/step - loss: 0.0310 - acc: 0.9935 - val_loss: 0.0900 - val_acc: 0.9729\n",
      "Epoch 140/200\n",
      "48000/48000 [==============================] - 2s 38us/step - loss: 0.0307 - acc: 0.9935 - val_loss: 0.0896 - val_acc: 0.9741\n",
      "Epoch 141/200\n",
      "48000/48000 [==============================] - 2s 39us/step - loss: 0.0302 - acc: 0.9935 - val_loss: 0.0899 - val_acc: 0.9736\n",
      "Epoch 142/200\n",
      "48000/48000 [==============================] - 2s 36us/step - loss: 0.0300 - acc: 0.9936 - val_loss: 0.0899 - val_acc: 0.9737\n",
      "Epoch 143/200\n",
      "48000/48000 [==============================] - 2s 37us/step - loss: 0.0297 - acc: 0.9940 - val_loss: 0.0905 - val_acc: 0.9744\n",
      "Epoch 144/200\n",
      "48000/48000 [==============================] - 2s 37us/step - loss: 0.0293 - acc: 0.9938 - val_loss: 0.0892 - val_acc: 0.9742\n",
      "Epoch 145/200\n",
      "48000/48000 [==============================] - 2s 38us/step - loss: 0.0290 - acc: 0.9939 - val_loss: 0.0896 - val_acc: 0.9737\n",
      "Epoch 146/200\n",
      "48000/48000 [==============================] - 2s 36us/step - loss: 0.0286 - acc: 0.9941 - val_loss: 0.0895 - val_acc: 0.9741\n",
      "Epoch 147/200\n",
      "48000/48000 [==============================] - 2s 36us/step - loss: 0.0284 - acc: 0.9941 - val_loss: 0.0896 - val_acc: 0.9734\n",
      "Epoch 148/200\n",
      "48000/48000 [==============================] - 2s 37us/step - loss: 0.0280 - acc: 0.9943 - val_loss: 0.0894 - val_acc: 0.9745\n",
      "Epoch 149/200\n",
      "48000/48000 [==============================] - 2s 38us/step - loss: 0.0277 - acc: 0.9944 - val_loss: 0.0885 - val_acc: 0.9746\n",
      "Epoch 150/200\n",
      "48000/48000 [==============================] - 2s 37us/step - loss: 0.0274 - acc: 0.9946 - val_loss: 0.0896 - val_acc: 0.9742\n",
      "Epoch 151/200\n",
      "48000/48000 [==============================] - 2s 37us/step - loss: 0.0271 - acc: 0.9945 - val_loss: 0.0896 - val_acc: 0.9739\n",
      "Epoch 152/200\n",
      "48000/48000 [==============================] - 2s 36us/step - loss: 0.0268 - acc: 0.9946 - val_loss: 0.0889 - val_acc: 0.9742\n",
      "Epoch 153/200\n",
      "48000/48000 [==============================] - 2s 37us/step - loss: 0.0265 - acc: 0.9949 - val_loss: 0.0890 - val_acc: 0.9746\n",
      "Epoch 154/200\n",
      "48000/48000 [==============================] - 2s 37us/step - loss: 0.0262 - acc: 0.9948 - val_loss: 0.0890 - val_acc: 0.9744\n",
      "Epoch 155/200\n",
      "48000/48000 [==============================] - 2s 37us/step - loss: 0.0259 - acc: 0.9951 - val_loss: 0.0891 - val_acc: 0.9742\n",
      "Epoch 156/200\n",
      "48000/48000 [==============================] - 2s 38us/step - loss: 0.0256 - acc: 0.9951 - val_loss: 0.0887 - val_acc: 0.9739\n",
      "Epoch 157/200\n",
      "48000/48000 [==============================] - 2s 42us/step - loss: 0.0254 - acc: 0.9949 - val_loss: 0.0899 - val_acc: 0.9743\n",
      "Epoch 158/200\n",
      "48000/48000 [==============================] - 2s 42us/step - loss: 0.0251 - acc: 0.9949 - val_loss: 0.0897 - val_acc: 0.9742\n",
      "Epoch 159/200\n",
      "48000/48000 [==============================] - 2s 39us/step - loss: 0.0248 - acc: 0.9955 - val_loss: 0.0897 - val_acc: 0.9742\n",
      "Epoch 160/200\n",
      "48000/48000 [==============================] - 2s 41us/step - loss: 0.0245 - acc: 0.9952 - val_loss: 0.0888 - val_acc: 0.9742\n",
      "Epoch 161/200\n",
      "48000/48000 [==============================] - 2s 41us/step - loss: 0.0243 - acc: 0.9955 - val_loss: 0.0888 - val_acc: 0.9751\n",
      "Epoch 162/200\n",
      "48000/48000 [==============================] - 2s 41us/step - loss: 0.0240 - acc: 0.9956 - val_loss: 0.0889 - val_acc: 0.9744\n",
      "Epoch 163/200\n",
      "48000/48000 [==============================] - 2s 40us/step - loss: 0.0238 - acc: 0.9955 - val_loss: 0.0893 - val_acc: 0.9745\n",
      "Epoch 164/200\n",
      "48000/48000 [==============================] - 2s 40us/step - loss: 0.0234 - acc: 0.9957 - val_loss: 0.0895 - val_acc: 0.9740\n",
      "Epoch 165/200\n",
      "48000/48000 [==============================] - 2s 41us/step - loss: 0.0233 - acc: 0.9956 - val_loss: 0.0895 - val_acc: 0.9750\n",
      "Epoch 166/200\n",
      "48000/48000 [==============================] - 2s 42us/step - loss: 0.0230 - acc: 0.9959 - val_loss: 0.0894 - val_acc: 0.9745\n",
      "Epoch 167/200\n",
      "48000/48000 [==============================] - 2s 42us/step - loss: 0.0227 - acc: 0.9956 - val_loss: 0.0890 - val_acc: 0.9743\n",
      "Epoch 168/200\n",
      "48000/48000 [==============================] - 2s 40us/step - loss: 0.0225 - acc: 0.9959 - val_loss: 0.0889 - val_acc: 0.9747\n",
      "Epoch 169/200\n",
      "48000/48000 [==============================] - 2s 40us/step - loss: 0.0222 - acc: 0.9961 - val_loss: 0.0892 - val_acc: 0.9746\n",
      "Epoch 170/200\n",
      "48000/48000 [==============================] - 2s 42us/step - loss: 0.0220 - acc: 0.9960 - val_loss: 0.0894 - val_acc: 0.9747\n",
      "Epoch 171/200\n",
      "48000/48000 [==============================] - 2s 41us/step - loss: 0.0218 - acc: 0.9963 - val_loss: 0.0891 - val_acc: 0.9749\n",
      "Epoch 172/200\n",
      "48000/48000 [==============================] - 2s 41us/step - loss: 0.0215 - acc: 0.9963 - val_loss: 0.0889 - val_acc: 0.9752\n",
      "Epoch 173/200\n",
      "48000/48000 [==============================] - 2s 40us/step - loss: 0.0213 - acc: 0.9963 - val_loss: 0.0890 - val_acc: 0.9742\n",
      "Epoch 174/200\n",
      "48000/48000 [==============================] - 2s 40us/step - loss: 0.0211 - acc: 0.9963 - val_loss: 0.0891 - val_acc: 0.9742\n",
      "Epoch 175/200\n",
      "48000/48000 [==============================] - 2s 39us/step - loss: 0.0208 - acc: 0.9965 - val_loss: 0.0891 - val_acc: 0.9743\n",
      "Epoch 176/200\n",
      "48000/48000 [==============================] - 2s 44us/step - loss: 0.0205 - acc: 0.9966 - val_loss: 0.0892 - val_acc: 0.9749\n",
      "Epoch 177/200\n",
      "48000/48000 [==============================] - 2s 42us/step - loss: 0.0204 - acc: 0.9965 - val_loss: 0.0892 - val_acc: 0.9742\n",
      "Epoch 178/200\n",
      "48000/48000 [==============================] - 2s 41us/step - loss: 0.0202 - acc: 0.9967 - val_loss: 0.0889 - val_acc: 0.9749\n",
      "Epoch 179/200\n",
      "48000/48000 [==============================] - 2s 44us/step - loss: 0.0200 - acc: 0.9968 - val_loss: 0.0892 - val_acc: 0.9751\n",
      "Epoch 180/200\n",
      "48000/48000 [==============================] - 2s 43us/step - loss: 0.0198 - acc: 0.9968 - val_loss: 0.0889 - val_acc: 0.9746\n",
      "Epoch 181/200\n",
      "48000/48000 [==============================] - 2s 42us/step - loss: 0.0194 - acc: 0.9968 - val_loss: 0.0889 - val_acc: 0.9745\n",
      "Epoch 182/200\n",
      "48000/48000 [==============================] - 2s 40us/step - loss: 0.0193 - acc: 0.9968 - val_loss: 0.0905 - val_acc: 0.9747\n",
      "Epoch 183/200\n",
      "48000/48000 [==============================] - 2s 41us/step - loss: 0.0192 - acc: 0.9970 - val_loss: 0.0895 - val_acc: 0.9749\n",
      "Epoch 184/200\n",
      "48000/48000 [==============================] - 2s 42us/step - loss: 0.0189 - acc: 0.9970 - val_loss: 0.0888 - val_acc: 0.9747\n",
      "Epoch 185/200\n",
      "48000/48000 [==============================] - ETA: 0s - loss: 0.0187 - acc: 0.997 - 2s 41us/step - loss: 0.0186 - acc: 0.9971 - val_loss: 0.0898 - val_acc: 0.9738\n",
      "Epoch 186/200\n",
      "48000/48000 [==============================] - 2s 41us/step - loss: 0.0186 - acc: 0.9970 - val_loss: 0.0894 - val_acc: 0.9747\n",
      "Epoch 187/200\n",
      "48000/48000 [==============================] - 2s 41us/step - loss: 0.0184 - acc: 0.9972 - val_loss: 0.0892 - val_acc: 0.9742\n",
      "Epoch 188/200\n",
      "48000/48000 [==============================] - 2s 43us/step - loss: 0.0182 - acc: 0.9973 - val_loss: 0.0896 - val_acc: 0.9752\n",
      "Epoch 189/200\n",
      "48000/48000 [==============================] - 2s 43us/step - loss: 0.0180 - acc: 0.9973 - val_loss: 0.0900 - val_acc: 0.9747\n",
      "Epoch 190/200\n",
      "48000/48000 [==============================] - 2s 41us/step - loss: 0.0177 - acc: 0.9974 - val_loss: 0.0896 - val_acc: 0.9751\n",
      "Epoch 191/200\n",
      "48000/48000 [==============================] - 2s 40us/step - loss: 0.0176 - acc: 0.9973 - val_loss: 0.0892 - val_acc: 0.9746\n",
      "Epoch 192/200\n",
      "48000/48000 [==============================] - 2s 43us/step - loss: 0.0175 - acc: 0.9973 - val_loss: 0.0902 - val_acc: 0.9745\n",
      "Epoch 193/200\n",
      "48000/48000 [==============================] - 2s 43us/step - loss: 0.0172 - acc: 0.9975 - val_loss: 0.0899 - val_acc: 0.9750\n",
      "Epoch 194/200\n",
      "48000/48000 [==============================] - 2s 42us/step - loss: 0.0171 - acc: 0.9975 - val_loss: 0.0894 - val_acc: 0.9743\n",
      "Epoch 195/200\n",
      "48000/48000 [==============================] - 2s 40us/step - loss: 0.0169 - acc: 0.9975 - val_loss: 0.0901 - val_acc: 0.9745\n",
      "Epoch 196/200\n",
      "48000/48000 [==============================] - 2s 41us/step - loss: 0.0167 - acc: 0.9975 - val_loss: 0.0898 - val_acc: 0.9750\n",
      "Epoch 197/200\n",
      "48000/48000 [==============================] - 2s 43us/step - loss: 0.0165 - acc: 0.9975 - val_loss: 0.0898 - val_acc: 0.9742\n",
      "Epoch 198/200\n",
      "48000/48000 [==============================] - 2s 40us/step - loss: 0.0164 - acc: 0.9976 - val_loss: 0.0896 - val_acc: 0.9745\n",
      "Epoch 199/200\n",
      "48000/48000 [==============================] - 2s 41us/step - loss: 0.0162 - acc: 0.9977 - val_loss: 0.0894 - val_acc: 0.9745\n",
      "Epoch 200/200\n",
      "48000/48000 [==============================] - 2s 42us/step - loss: 0.0160 - acc: 0.9978 - val_loss: 0.0904 - val_acc: 0.9750\n"
     ]
    }
   ],
   "source": [
    "model.compile(loss='categorical_crossentropy',optimizer=OPTIMIZER,metrics=['accuracy'])\n",
    "history = model.fit(X_train,Y_train,batch_size=BATCH_SIZE,epochs=NB_EPOCH,verbose=VERBOSE,validation_split=VALIDATION_SPLIT)"
   ]
  },
  {
   "cell_type": "markdown",
   "metadata": {},
   "source": [
    "score = model.evaluate(X_test,Y_test,verbose=VERBOSE)"
   ]
  },
  {
   "cell_type": "code",
   "execution_count": 49,
   "metadata": {
    "ExecuteTime": {
     "end_time": "2019-05-04T05:14:39.591636Z",
     "start_time": "2019-05-04T05:14:38.963230Z"
    }
   },
   "outputs": [
    {
     "name": "stdout",
     "output_type": "stream",
     "text": [
      "10000/10000 [==============================] - 1s 61us/step\n"
     ]
    }
   ],
   "source": [
    "score = model.evaluate(X_test,Y_test,verbose=VERBOSE)"
   ]
  },
  {
   "cell_type": "code",
   "execution_count": 50,
   "metadata": {
    "ExecuteTime": {
     "end_time": "2019-05-04T05:14:57.525545Z",
     "start_time": "2019-05-04T05:14:57.520207Z"
    }
   },
   "outputs": [
    {
     "name": "stdout",
     "output_type": "stream",
     "text": [
      "Test score: 0.07795500778277638\n",
      "Test accuracy: 0.9772\n"
     ]
    }
   ],
   "source": [
    "print('Test score:',score[0])\n",
    "print('Test accuracy:',score[1])"
   ]
  },
  {
   "cell_type": "code",
   "execution_count": 51,
   "metadata": {
    "ExecuteTime": {
     "end_time": "2019-05-04T05:15:51.974465Z",
     "start_time": "2019-05-04T05:15:50.879185Z"
    }
   },
   "outputs": [
    {
     "name": "stdout",
     "output_type": "stream",
     "text": [
      "_________________________________________________________________\n",
      "Layer (type)                 Output Shape              Param #   \n",
      "=================================================================\n",
      "dense_7 (Dense)              (None, 128)               100480    \n",
      "_________________________________________________________________\n",
      "activation_6 (Activation)    (None, 128)               0         \n",
      "_________________________________________________________________\n",
      "dense_8 (Dense)              (None, 128)               16512     \n",
      "_________________________________________________________________\n",
      "activation_7 (Activation)    (None, 128)               0         \n",
      "_________________________________________________________________\n",
      "dense_9 (Dense)              (None, 128)               16512     \n",
      "_________________________________________________________________\n",
      "activation_8 (Activation)    (None, 128)               0         \n",
      "_________________________________________________________________\n",
      "dense_10 (Dense)             (None, 10)                1290      \n",
      "_________________________________________________________________\n",
      "activation_9 (Activation)    (None, 10)                0         \n",
      "=================================================================\n",
      "Total params: 134,794\n",
      "Trainable params: 134,794\n",
      "Non-trainable params: 0\n",
      "_________________________________________________________________\n"
     ]
    }
   ],
   "source": [
    "model= Sequential()\n",
    "model.add(Dense(N_HIDDEN,input_shape=(RESHAPED,)))\n",
    "model.add(Activation('relu'))\n",
    "model.add(Dense(N_HIDDEN))\n",
    "model.add(Activation('relu'))\n",
    "model.add(Dense(N_HIDDEN))\n",
    "model.add(Activation('relu'))\n",
    "model.add(Dense(NB_CLASSES))\n",
    "model.add(Activation('softmax'))\n",
    "model.summary()"
   ]
  },
  {
   "cell_type": "code",
   "execution_count": 52,
   "metadata": {
    "ExecuteTime": {
     "end_time": "2019-05-04T05:16:02.720283Z",
     "start_time": "2019-05-04T05:16:02.671158Z"
    }
   },
   "outputs": [],
   "source": [
    "model.compile(loss='categorical_crossentropy',optimizer=OPTIMIZER,metrics=['accuracy'])"
   ]
  },
  {
   "cell_type": "code",
   "execution_count": 53,
   "metadata": {
    "ExecuteTime": {
     "end_time": "2019-05-04T05:24:00.258190Z",
     "start_time": "2019-05-04T05:16:21.081100Z"
    }
   },
   "outputs": [
    {
     "name": "stdout",
     "output_type": "stream",
     "text": [
      "Train on 48000 samples, validate on 12000 samples\n",
      "Epoch 1/200\n",
      "48000/48000 [==============================] - 4s 84us/step - loss: 1.4993 - acc: 0.6111 - val_loss: 0.6869 - val_acc: 0.8424\n",
      "Epoch 2/200\n",
      "48000/48000 [==============================] - 3s 58us/step - loss: 0.5366 - acc: 0.8606 - val_loss: 0.4057 - val_acc: 0.8912\n",
      "Epoch 3/200\n",
      "48000/48000 [==============================] - 2s 51us/step - loss: 0.3968 - acc: 0.8882 - val_loss: 0.3427 - val_acc: 0.9047\n",
      "Epoch 4/200\n",
      "48000/48000 [==============================] - 2s 49us/step - loss: 0.3460 - acc: 0.9014 - val_loss: 0.3115 - val_acc: 0.9131\n",
      "Epoch 5/200\n",
      "48000/48000 [==============================] - 2s 47us/step - loss: 0.3151 - acc: 0.9103 - val_loss: 0.2898 - val_acc: 0.9198\n",
      "Epoch 6/200\n",
      "48000/48000 [==============================] - 2s 46us/step - loss: 0.2919 - acc: 0.9157 - val_loss: 0.2667 - val_acc: 0.9245\n",
      "Epoch 7/200\n",
      "48000/48000 [==============================] - 2s 47us/step - loss: 0.2738 - acc: 0.9213 - val_loss: 0.2560 - val_acc: 0.9285\n",
      "Epoch 8/200\n",
      "48000/48000 [==============================] - 2s 49us/step - loss: 0.2578 - acc: 0.9268 - val_loss: 0.2439 - val_acc: 0.9314\n",
      "Epoch 9/200\n",
      "48000/48000 [==============================] - 2s 47us/step - loss: 0.2446 - acc: 0.9292 - val_loss: 0.2310 - val_acc: 0.9357\n",
      "Epoch 10/200\n",
      "48000/48000 [==============================] - 2s 49us/step - loss: 0.2324 - acc: 0.9330 - val_loss: 0.2219 - val_acc: 0.9391\n",
      "Epoch 11/200\n",
      "48000/48000 [==============================] - 2s 47us/step - loss: 0.2211 - acc: 0.9362 - val_loss: 0.2124 - val_acc: 0.9411\n",
      "Epoch 12/200\n",
      "48000/48000 [==============================] - 2s 49us/step - loss: 0.2112 - acc: 0.9393 - val_loss: 0.2042 - val_acc: 0.9437\n",
      "Epoch 13/200\n",
      "48000/48000 [==============================] - 2s 47us/step - loss: 0.2024 - acc: 0.9414 - val_loss: 0.1972 - val_acc: 0.9464\n",
      "Epoch 14/200\n",
      "48000/48000 [==============================] - 2s 47us/step - loss: 0.1940 - acc: 0.9437 - val_loss: 0.1905 - val_acc: 0.9476\n",
      "Epoch 15/200\n",
      "48000/48000 [==============================] - 2s 48us/step - loss: 0.1858 - acc: 0.9464 - val_loss: 0.1869 - val_acc: 0.9490\n",
      "Epoch 16/200\n",
      "48000/48000 [==============================] - 2s 47us/step - loss: 0.1788 - acc: 0.9478 - val_loss: 0.1787 - val_acc: 0.9506\n",
      "Epoch 17/200\n",
      "48000/48000 [==============================] - 2s 48us/step - loss: 0.1724 - acc: 0.9503 - val_loss: 0.1745 - val_acc: 0.9508\n",
      "Epoch 18/200\n",
      "48000/48000 [==============================] - 2s 47us/step - loss: 0.1658 - acc: 0.9531 - val_loss: 0.1684 - val_acc: 0.9537\n",
      "Epoch 19/200\n",
      "48000/48000 [==============================] - 2s 47us/step - loss: 0.1596 - acc: 0.9551 - val_loss: 0.1642 - val_acc: 0.9548\n",
      "Epoch 20/200\n",
      "48000/48000 [==============================] - 2s 48us/step - loss: 0.1538 - acc: 0.9563 - val_loss: 0.1608 - val_acc: 0.9550\n",
      "Epoch 21/200\n",
      "48000/48000 [==============================] - 2s 49us/step - loss: 0.1490 - acc: 0.9577 - val_loss: 0.1569 - val_acc: 0.9570\n",
      "Epoch 22/200\n",
      "48000/48000 [==============================] - 2s 46us/step - loss: 0.1433 - acc: 0.9589 - val_loss: 0.1529 - val_acc: 0.9578\n",
      "Epoch 23/200\n",
      "48000/48000 [==============================] - 2s 47us/step - loss: 0.1387 - acc: 0.9605 - val_loss: 0.1517 - val_acc: 0.9570\n",
      "Epoch 24/200\n",
      "48000/48000 [==============================] - 2s 47us/step - loss: 0.1342 - acc: 0.9610 - val_loss: 0.1467 - val_acc: 0.9595\n",
      "Epoch 25/200\n",
      "48000/48000 [==============================] - 2s 49us/step - loss: 0.1301 - acc: 0.9628 - val_loss: 0.1437 - val_acc: 0.9596\n",
      "Epoch 26/200\n",
      "48000/48000 [==============================] - 2s 48us/step - loss: 0.1258 - acc: 0.9646 - val_loss: 0.1394 - val_acc: 0.9608\n",
      "Epoch 27/200\n",
      "48000/48000 [==============================] - 2s 47us/step - loss: 0.1220 - acc: 0.9653 - val_loss: 0.1409 - val_acc: 0.9598\n",
      "Epoch 28/200\n",
      "48000/48000 [==============================] - 2s 44us/step - loss: 0.1186 - acc: 0.9660 - val_loss: 0.1355 - val_acc: 0.9606\n",
      "Epoch 29/200\n",
      "48000/48000 [==============================] - 2s 47us/step - loss: 0.1150 - acc: 0.9672 - val_loss: 0.1327 - val_acc: 0.9618\n",
      "Epoch 30/200\n",
      "48000/48000 [==============================] - 2s 46us/step - loss: 0.1116 - acc: 0.9683 - val_loss: 0.1320 - val_acc: 0.9616\n",
      "Epoch 31/200\n",
      "48000/48000 [==============================] - 2s 45us/step - loss: 0.1086 - acc: 0.9697 - val_loss: 0.1291 - val_acc: 0.9631\n",
      "Epoch 32/200\n",
      "48000/48000 [==============================] - 2s 44us/step - loss: 0.1054 - acc: 0.9702 - val_loss: 0.1260 - val_acc: 0.9643\n",
      "Epoch 33/200\n",
      "48000/48000 [==============================] - 2s 45us/step - loss: 0.1026 - acc: 0.9711 - val_loss: 0.1246 - val_acc: 0.9642\n",
      "Epoch 34/200\n",
      "48000/48000 [==============================] - 2s 45us/step - loss: 0.1000 - acc: 0.9719 - val_loss: 0.1227 - val_acc: 0.9644\n",
      "Epoch 35/200\n",
      "48000/48000 [==============================] - 2s 47us/step - loss: 0.0974 - acc: 0.9727 - val_loss: 0.1203 - val_acc: 0.9648\n",
      "Epoch 36/200\n",
      "48000/48000 [==============================] - 2s 47us/step - loss: 0.0947 - acc: 0.9732 - val_loss: 0.1185 - val_acc: 0.9660\n",
      "Epoch 37/200\n",
      "48000/48000 [==============================] - 2s 44us/step - loss: 0.0924 - acc: 0.9740 - val_loss: 0.1184 - val_acc: 0.9659\n",
      "Epoch 38/200\n",
      "48000/48000 [==============================] - 2s 46us/step - loss: 0.0898 - acc: 0.9743 - val_loss: 0.1168 - val_acc: 0.9663\n",
      "Epoch 39/200\n",
      "48000/48000 [==============================] - 2s 48us/step - loss: 0.0878 - acc: 0.9753 - val_loss: 0.1176 - val_acc: 0.9656\n",
      "Epoch 40/200\n",
      "48000/48000 [==============================] - 2s 46us/step - loss: 0.0856 - acc: 0.9754 - val_loss: 0.1141 - val_acc: 0.9678\n",
      "Epoch 41/200\n",
      "48000/48000 [==============================] - 2s 45us/step - loss: 0.0836 - acc: 0.9767 - val_loss: 0.1128 - val_acc: 0.9674\n",
      "Epoch 42/200\n",
      "48000/48000 [==============================] - 2s 45us/step - loss: 0.0813 - acc: 0.9770 - val_loss: 0.1132 - val_acc: 0.9673\n",
      "Epoch 43/200\n",
      "48000/48000 [==============================] - 2s 48us/step - loss: 0.0795 - acc: 0.9777 - val_loss: 0.1107 - val_acc: 0.9668\n",
      "Epoch 44/200\n",
      "48000/48000 [==============================] - 2s 46us/step - loss: 0.0778 - acc: 0.9777 - val_loss: 0.1097 - val_acc: 0.9670\n",
      "Epoch 45/200\n",
      "48000/48000 [==============================] - 2s 44us/step - loss: 0.0757 - acc: 0.9791 - val_loss: 0.1099 - val_acc: 0.9674\n",
      "Epoch 46/200\n",
      "48000/48000 [==============================] - 2s 45us/step - loss: 0.0735 - acc: 0.9799 - val_loss: 0.1076 - val_acc: 0.9686\n",
      "Epoch 47/200\n",
      "48000/48000 [==============================] - 2s 47us/step - loss: 0.0724 - acc: 0.9795 - val_loss: 0.1071 - val_acc: 0.9687\n",
      "Epoch 48/200\n",
      "48000/48000 [==============================] - 2s 46us/step - loss: 0.0703 - acc: 0.9804 - val_loss: 0.1055 - val_acc: 0.9688\n",
      "Epoch 49/200\n",
      "48000/48000 [==============================] - 2s 46us/step - loss: 0.0687 - acc: 0.9810 - val_loss: 0.1060 - val_acc: 0.9692\n",
      "Epoch 50/200\n",
      "48000/48000 [==============================] - 2s 46us/step - loss: 0.0675 - acc: 0.9810 - val_loss: 0.1045 - val_acc: 0.9691\n",
      "Epoch 51/200\n",
      "48000/48000 [==============================] - 2s 47us/step - loss: 0.0660 - acc: 0.9821 - val_loss: 0.1045 - val_acc: 0.9691\n",
      "Epoch 52/200\n",
      "48000/48000 [==============================] - 2s 47us/step - loss: 0.0644 - acc: 0.9821 - val_loss: 0.1046 - val_acc: 0.9700\n",
      "Epoch 53/200\n",
      "48000/48000 [==============================] - 2s 45us/step - loss: 0.0629 - acc: 0.9825 - val_loss: 0.1027 - val_acc: 0.9694\n",
      "Epoch 54/200\n",
      "48000/48000 [==============================] - 2s 45us/step - loss: 0.0616 - acc: 0.9834 - val_loss: 0.1030 - val_acc: 0.9683\n",
      "Epoch 55/200\n",
      "48000/48000 [==============================] - 2s 48us/step - loss: 0.0603 - acc: 0.9831 - val_loss: 0.1011 - val_acc: 0.9695\n",
      "Epoch 56/200\n",
      "48000/48000 [==============================] - 2s 46us/step - loss: 0.0589 - acc: 0.9835 - val_loss: 0.0999 - val_acc: 0.9713\n",
      "Epoch 57/200\n",
      "48000/48000 [==============================] - 2s 44us/step - loss: 0.0575 - acc: 0.9847 - val_loss: 0.1017 - val_acc: 0.9702\n",
      "Epoch 58/200\n",
      "48000/48000 [==============================] - 2s 44us/step - loss: 0.0565 - acc: 0.9846 - val_loss: 0.0997 - val_acc: 0.9713\n",
      "Epoch 59/200\n"
     ]
    },
    {
     "name": "stdout",
     "output_type": "stream",
     "text": [
      "48000/48000 [==============================] - 2s 49us/step - loss: 0.0553 - acc: 0.9853 - val_loss: 0.1008 - val_acc: 0.9703\n",
      "Epoch 60/200\n",
      "48000/48000 [==============================] - 2s 49us/step - loss: 0.0540 - acc: 0.9852 - val_loss: 0.0987 - val_acc: 0.9708\n",
      "Epoch 61/200\n",
      "48000/48000 [==============================] - 2s 46us/step - loss: 0.0527 - acc: 0.9858 - val_loss: 0.0985 - val_acc: 0.9711\n",
      "Epoch 62/200\n",
      "48000/48000 [==============================] - 2s 47us/step - loss: 0.0515 - acc: 0.9860 - val_loss: 0.0980 - val_acc: 0.9714\n",
      "Epoch 63/200\n",
      "48000/48000 [==============================] - 2s 48us/step - loss: 0.0504 - acc: 0.9865 - val_loss: 0.0977 - val_acc: 0.9722\n",
      "Epoch 64/200\n",
      "48000/48000 [==============================] - 2s 51us/step - loss: 0.0491 - acc: 0.9868 - val_loss: 0.0994 - val_acc: 0.9704\n",
      "Epoch 65/200\n",
      "48000/48000 [==============================] - 2s 47us/step - loss: 0.0482 - acc: 0.9864 - val_loss: 0.0966 - val_acc: 0.9713\n",
      "Epoch 66/200\n",
      "48000/48000 [==============================] - 2s 47us/step - loss: 0.0471 - acc: 0.9879 - val_loss: 0.0978 - val_acc: 0.9717\n",
      "Epoch 67/200\n",
      "48000/48000 [==============================] - 2s 49us/step - loss: 0.0463 - acc: 0.9878 - val_loss: 0.0964 - val_acc: 0.9719\n",
      "Epoch 68/200\n",
      "48000/48000 [==============================] - 2s 49us/step - loss: 0.0452 - acc: 0.9879 - val_loss: 0.0966 - val_acc: 0.9720\n",
      "Epoch 69/200\n",
      "48000/48000 [==============================] - 2s 47us/step - loss: 0.0441 - acc: 0.9884 - val_loss: 0.0962 - val_acc: 0.9721\n",
      "Epoch 70/200\n",
      "48000/48000 [==============================] - 2s 48us/step - loss: 0.0435 - acc: 0.9887 - val_loss: 0.0967 - val_acc: 0.9718\n",
      "Epoch 71/200\n",
      "48000/48000 [==============================] - 2s 47us/step - loss: 0.0424 - acc: 0.9887 - val_loss: 0.0957 - val_acc: 0.9717\n",
      "Epoch 72/200\n",
      "48000/48000 [==============================] - 2s 48us/step - loss: 0.0413 - acc: 0.9891 - val_loss: 0.0965 - val_acc: 0.9720\n",
      "Epoch 73/200\n",
      "48000/48000 [==============================] - 2s 46us/step - loss: 0.0404 - acc: 0.9899 - val_loss: 0.0967 - val_acc: 0.9718\n",
      "Epoch 74/200\n",
      "48000/48000 [==============================] - 2s 48us/step - loss: 0.0395 - acc: 0.9894 - val_loss: 0.0951 - val_acc: 0.9732\n",
      "Epoch 75/200\n",
      "48000/48000 [==============================] - 2s 48us/step - loss: 0.0388 - acc: 0.9901 - val_loss: 0.0954 - val_acc: 0.9733\n",
      "Epoch 76/200\n",
      "48000/48000 [==============================] - 2s 49us/step - loss: 0.0379 - acc: 0.9906 - val_loss: 0.0948 - val_acc: 0.9733\n",
      "Epoch 77/200\n",
      "48000/48000 [==============================] - 2s 46us/step - loss: 0.0370 - acc: 0.9907 - val_loss: 0.0977 - val_acc: 0.9712\n",
      "Epoch 78/200\n",
      "48000/48000 [==============================] - 2s 46us/step - loss: 0.0360 - acc: 0.9912 - val_loss: 0.0963 - val_acc: 0.9740\n",
      "Epoch 79/200\n",
      "48000/48000 [==============================] - 2s 47us/step - loss: 0.0355 - acc: 0.9909 - val_loss: 0.0944 - val_acc: 0.9730\n",
      "Epoch 80/200\n",
      "48000/48000 [==============================] - 2s 48us/step - loss: 0.0346 - acc: 0.9913 - val_loss: 0.0943 - val_acc: 0.9739\n",
      "Epoch 81/200\n",
      "48000/48000 [==============================] - 2s 46us/step - loss: 0.0340 - acc: 0.9916 - val_loss: 0.0963 - val_acc: 0.9732\n",
      "Epoch 82/200\n",
      "48000/48000 [==============================] - 2s 47us/step - loss: 0.0330 - acc: 0.9922 - val_loss: 0.0949 - val_acc: 0.9735\n",
      "Epoch 83/200\n",
      "48000/48000 [==============================] - 2s 48us/step - loss: 0.0325 - acc: 0.9923 - val_loss: 0.0960 - val_acc: 0.9727\n",
      "Epoch 84/200\n",
      "48000/48000 [==============================] - 2s 46us/step - loss: 0.0320 - acc: 0.9921 - val_loss: 0.0954 - val_acc: 0.9729\n",
      "Epoch 85/200\n",
      "48000/48000 [==============================] - 2s 48us/step - loss: 0.0312 - acc: 0.9926 - val_loss: 0.0950 - val_acc: 0.9735\n",
      "Epoch 86/200\n",
      "48000/48000 [==============================] - 2s 46us/step - loss: 0.0302 - acc: 0.9930 - val_loss: 0.0953 - val_acc: 0.9734\n",
      "Epoch 87/200\n",
      "48000/48000 [==============================] - 2s 47us/step - loss: 0.0298 - acc: 0.9930 - val_loss: 0.0945 - val_acc: 0.9733\n",
      "Epoch 88/200\n",
      "48000/48000 [==============================] - 2s 47us/step - loss: 0.0291 - acc: 0.9931 - val_loss: 0.0957 - val_acc: 0.9728\n",
      "Epoch 89/200\n",
      "48000/48000 [==============================] - 2s 48us/step - loss: 0.0285 - acc: 0.9936 - val_loss: 0.0960 - val_acc: 0.9732\n",
      "Epoch 90/200\n",
      "48000/48000 [==============================] - 2s 49us/step - loss: 0.0280 - acc: 0.9937 - val_loss: 0.0941 - val_acc: 0.9734\n",
      "Epoch 91/200\n",
      "48000/48000 [==============================] - 2s 46us/step - loss: 0.0271 - acc: 0.9940 - val_loss: 0.0968 - val_acc: 0.9735\n",
      "Epoch 92/200\n",
      "48000/48000 [==============================] - 2s 46us/step - loss: 0.0267 - acc: 0.9942 - val_loss: 0.0949 - val_acc: 0.9737\n",
      "Epoch 93/200\n",
      "48000/48000 [==============================] - 2s 47us/step - loss: 0.0261 - acc: 0.9942 - val_loss: 0.0954 - val_acc: 0.9736\n",
      "Epoch 94/200\n",
      "48000/48000 [==============================] - 2s 47us/step - loss: 0.0253 - acc: 0.9944 - val_loss: 0.0958 - val_acc: 0.9736\n",
      "Epoch 95/200\n",
      "48000/48000 [==============================] - 2s 45us/step - loss: 0.0249 - acc: 0.9946 - val_loss: 0.0959 - val_acc: 0.9737\n",
      "Epoch 96/200\n",
      "48000/48000 [==============================] - 2s 46us/step - loss: 0.0243 - acc: 0.9951 - val_loss: 0.0951 - val_acc: 0.9736\n",
      "Epoch 97/200\n",
      "48000/48000 [==============================] - 2s 47us/step - loss: 0.0238 - acc: 0.9950 - val_loss: 0.0954 - val_acc: 0.9739\n",
      "Epoch 98/200\n",
      "48000/48000 [==============================] - 2s 49us/step - loss: 0.0231 - acc: 0.9953 - val_loss: 0.0964 - val_acc: 0.9737\n",
      "Epoch 99/200\n",
      "48000/48000 [==============================] - 2s 44us/step - loss: 0.0228 - acc: 0.9953 - val_loss: 0.0954 - val_acc: 0.9733\n",
      "Epoch 100/200\n",
      "48000/48000 [==============================] - 2s 45us/step - loss: 0.0224 - acc: 0.9956 - val_loss: 0.0959 - val_acc: 0.9739\n",
      "Epoch 101/200\n",
      "48000/48000 [==============================] - 2s 48us/step - loss: 0.0218 - acc: 0.9957 - val_loss: 0.0953 - val_acc: 0.9745\n",
      "Epoch 102/200\n",
      "48000/48000 [==============================] - 2s 47us/step - loss: 0.0213 - acc: 0.9957 - val_loss: 0.0958 - val_acc: 0.9739\n",
      "Epoch 103/200\n",
      "48000/48000 [==============================] - 2s 45us/step - loss: 0.0208 - acc: 0.9963 - val_loss: 0.0944 - val_acc: 0.9743\n",
      "Epoch 104/200\n",
      "48000/48000 [==============================] - 2s 45us/step - loss: 0.0204 - acc: 0.9964 - val_loss: 0.0957 - val_acc: 0.9746\n",
      "Epoch 105/200\n",
      "48000/48000 [==============================] - 2s 46us/step - loss: 0.0200 - acc: 0.9963 - val_loss: 0.0957 - val_acc: 0.9735\n",
      "Epoch 106/200\n",
      "48000/48000 [==============================] - 2s 48us/step - loss: 0.0196 - acc: 0.9964 - val_loss: 0.0971 - val_acc: 0.9741\n",
      "Epoch 107/200\n",
      "48000/48000 [==============================] - 2s 44us/step - loss: 0.0193 - acc: 0.9966 - val_loss: 0.0959 - val_acc: 0.9746\n",
      "Epoch 108/200\n",
      "48000/48000 [==============================] - 2s 46us/step - loss: 0.0187 - acc: 0.9967 - val_loss: 0.0968 - val_acc: 0.9738\n",
      "Epoch 109/200\n",
      "48000/48000 [==============================] - 2s 47us/step - loss: 0.0183 - acc: 0.9968 - val_loss: 0.0965 - val_acc: 0.9744\n",
      "Epoch 110/200\n",
      "48000/48000 [==============================] - 2s 47us/step - loss: 0.0179 - acc: 0.9969 - val_loss: 0.0961 - val_acc: 0.9750\n",
      "Epoch 111/200\n",
      "48000/48000 [==============================] - 2s 44us/step - loss: 0.0175 - acc: 0.9969 - val_loss: 0.0967 - val_acc: 0.9740\n",
      "Epoch 112/200\n",
      "48000/48000 [==============================] - 2s 47us/step - loss: 0.0171 - acc: 0.9972 - val_loss: 0.0971 - val_acc: 0.9745\n",
      "Epoch 113/200\n",
      "48000/48000 [==============================] - 2s 47us/step - loss: 0.0168 - acc: 0.9973 - val_loss: 0.0984 - val_acc: 0.9740\n",
      "Epoch 114/200\n",
      "48000/48000 [==============================] - 2s 47us/step - loss: 0.0164 - acc: 0.9975 - val_loss: 0.0973 - val_acc: 0.9741\n",
      "Epoch 115/200\n",
      "48000/48000 [==============================] - 2s 44us/step - loss: 0.0161 - acc: 0.9974 - val_loss: 0.0980 - val_acc: 0.9743\n",
      "Epoch 116/200\n",
      "48000/48000 [==============================] - 2s 45us/step - loss: 0.0157 - acc: 0.9977 - val_loss: 0.0986 - val_acc: 0.9746\n",
      "Epoch 117/200\n",
      "48000/48000 [==============================] - 2s 46us/step - loss: 0.0154 - acc: 0.9977 - val_loss: 0.0973 - val_acc: 0.9748\n"
     ]
    },
    {
     "name": "stdout",
     "output_type": "stream",
     "text": [
      "Epoch 118/200\n",
      "48000/48000 [==============================] - 2s 49us/step - loss: 0.0149 - acc: 0.9980 - val_loss: 0.0979 - val_acc: 0.9745\n",
      "Epoch 119/200\n",
      "48000/48000 [==============================] - 2s 47us/step - loss: 0.0147 - acc: 0.9980 - val_loss: 0.0986 - val_acc: 0.9738\n",
      "Epoch 120/200\n",
      "48000/48000 [==============================] - 2s 48us/step - loss: 0.0144 - acc: 0.9981 - val_loss: 0.0982 - val_acc: 0.9752\n",
      "Epoch 121/200\n",
      "48000/48000 [==============================] - 2s 49us/step - loss: 0.0142 - acc: 0.9980 - val_loss: 0.0982 - val_acc: 0.9743\n",
      "Epoch 122/200\n",
      "48000/48000 [==============================] - 2s 49us/step - loss: 0.0138 - acc: 0.9981 - val_loss: 0.0984 - val_acc: 0.9744\n",
      "Epoch 123/200\n",
      "48000/48000 [==============================] - 2s 48us/step - loss: 0.0135 - acc: 0.9982 - val_loss: 0.0990 - val_acc: 0.9748\n",
      "Epoch 124/200\n",
      "48000/48000 [==============================] - 2s 47us/step - loss: 0.0133 - acc: 0.9984 - val_loss: 0.0993 - val_acc: 0.9739\n",
      "Epoch 125/200\n",
      "48000/48000 [==============================] - 2s 51us/step - loss: 0.0130 - acc: 0.9984 - val_loss: 0.0989 - val_acc: 0.9745\n",
      "Epoch 126/200\n",
      "48000/48000 [==============================] - 2s 49us/step - loss: 0.0128 - acc: 0.9983 - val_loss: 0.0994 - val_acc: 0.9745\n",
      "Epoch 127/200\n",
      "48000/48000 [==============================] - 2s 46us/step - loss: 0.0125 - acc: 0.9986 - val_loss: 0.0999 - val_acc: 0.9747\n",
      "Epoch 128/200\n",
      "48000/48000 [==============================] - 2s 47us/step - loss: 0.0122 - acc: 0.9986 - val_loss: 0.1008 - val_acc: 0.9740\n",
      "Epoch 129/200\n",
      "48000/48000 [==============================] - 2s 49us/step - loss: 0.0121 - acc: 0.9986 - val_loss: 0.0992 - val_acc: 0.9748\n",
      "Epoch 130/200\n",
      "48000/48000 [==============================] - 2s 47us/step - loss: 0.0117 - acc: 0.9987 - val_loss: 0.1001 - val_acc: 0.9745\n",
      "Epoch 131/200\n",
      "48000/48000 [==============================] - 2s 46us/step - loss: 0.0115 - acc: 0.9988 - val_loss: 0.0997 - val_acc: 0.9754\n",
      "Epoch 132/200\n",
      "48000/48000 [==============================] - 2s 47us/step - loss: 0.0112 - acc: 0.9988 - val_loss: 0.1006 - val_acc: 0.9755\n",
      "Epoch 133/200\n",
      "48000/48000 [==============================] - 2s 48us/step - loss: 0.0111 - acc: 0.9988 - val_loss: 0.1006 - val_acc: 0.9745\n",
      "Epoch 134/200\n",
      "48000/48000 [==============================] - 2s 49us/step - loss: 0.0109 - acc: 0.9989 - val_loss: 0.1013 - val_acc: 0.9743\n",
      "Epoch 135/200\n",
      "48000/48000 [==============================] - 2s 47us/step - loss: 0.0106 - acc: 0.9990 - val_loss: 0.1018 - val_acc: 0.9754\n",
      "Epoch 136/200\n",
      "48000/48000 [==============================] - 2s 46us/step - loss: 0.0104 - acc: 0.9989 - val_loss: 0.1016 - val_acc: 0.9748\n",
      "Epoch 137/200\n",
      "48000/48000 [==============================] - 2s 48us/step - loss: 0.0101 - acc: 0.9991 - val_loss: 0.1008 - val_acc: 0.9746\n",
      "Epoch 138/200\n",
      "48000/48000 [==============================] - 2s 48us/step - loss: 0.0101 - acc: 0.9989 - val_loss: 0.1019 - val_acc: 0.9756\n",
      "Epoch 139/200\n",
      "48000/48000 [==============================] - 2s 47us/step - loss: 0.0098 - acc: 0.9991 - val_loss: 0.1029 - val_acc: 0.9748\n",
      "Epoch 140/200\n",
      "48000/48000 [==============================] - 2s 46us/step - loss: 0.0096 - acc: 0.9991 - val_loss: 0.1025 - val_acc: 0.9748\n",
      "Epoch 141/200\n",
      "48000/48000 [==============================] - 2s 46us/step - loss: 0.0095 - acc: 0.9992 - val_loss: 0.1022 - val_acc: 0.9752\n",
      "Epoch 142/200\n",
      "48000/48000 [==============================] - 2s 48us/step - loss: 0.0093 - acc: 0.9992 - val_loss: 0.1022 - val_acc: 0.9751\n",
      "Epoch 143/200\n",
      "48000/48000 [==============================] - 2s 49us/step - loss: 0.0091 - acc: 0.9992 - val_loss: 0.1025 - val_acc: 0.9752\n",
      "Epoch 144/200\n",
      "48000/48000 [==============================] - 2s 48us/step - loss: 0.0089 - acc: 0.9992 - val_loss: 0.1031 - val_acc: 0.9743\n",
      "Epoch 145/200\n",
      "48000/48000 [==============================] - 2s 47us/step - loss: 0.0087 - acc: 0.9994 - val_loss: 0.1025 - val_acc: 0.9753\n",
      "Epoch 146/200\n",
      "48000/48000 [==============================] - 2s 46us/step - loss: 0.0086 - acc: 0.9993 - val_loss: 0.1028 - val_acc: 0.9743\n",
      "Epoch 147/200\n",
      "48000/48000 [==============================] - 2s 47us/step - loss: 0.0084 - acc: 0.9993 - val_loss: 0.1028 - val_acc: 0.9752\n",
      "Epoch 148/200\n",
      "48000/48000 [==============================] - 2s 48us/step - loss: 0.0082 - acc: 0.9993 - val_loss: 0.1041 - val_acc: 0.9748\n",
      "Epoch 149/200\n",
      "48000/48000 [==============================] - 2s 47us/step - loss: 0.0081 - acc: 0.9993 - val_loss: 0.1043 - val_acc: 0.9748\n",
      "Epoch 150/200\n",
      "48000/48000 [==============================] - 2s 47us/step - loss: 0.0079 - acc: 0.9994 - val_loss: 0.1037 - val_acc: 0.9752\n",
      "Epoch 151/200\n",
      "48000/48000 [==============================] - 2s 48us/step - loss: 0.0078 - acc: 0.9994 - val_loss: 0.1042 - val_acc: 0.9750\n",
      "Epoch 152/200\n",
      "48000/48000 [==============================] - 2s 49us/step - loss: 0.0076 - acc: 0.9994 - val_loss: 0.1041 - val_acc: 0.9750\n",
      "Epoch 153/200\n",
      "48000/48000 [==============================] - 2s 46us/step - loss: 0.0075 - acc: 0.9994 - val_loss: 0.1040 - val_acc: 0.9745\n",
      "Epoch 154/200\n",
      "48000/48000 [==============================] - 2s 46us/step - loss: 0.0074 - acc: 0.9994 - val_loss: 0.1042 - val_acc: 0.9751\n",
      "Epoch 155/200\n",
      "48000/48000 [==============================] - 2s 48us/step - loss: 0.0072 - acc: 0.9995 - val_loss: 0.1040 - val_acc: 0.9744\n",
      "Epoch 156/200\n",
      "48000/48000 [==============================] - 2s 50us/step - loss: 0.0071 - acc: 0.9995 - val_loss: 0.1047 - val_acc: 0.9748\n",
      "Epoch 157/200\n",
      "48000/48000 [==============================] - 2s 48us/step - loss: 0.0069 - acc: 0.9995 - val_loss: 0.1055 - val_acc: 0.9750\n",
      "Epoch 158/200\n",
      "48000/48000 [==============================] - 2s 46us/step - loss: 0.0068 - acc: 0.9995 - val_loss: 0.1058 - val_acc: 0.9745\n",
      "Epoch 159/200\n",
      "48000/48000 [==============================] - 2s 46us/step - loss: 0.0067 - acc: 0.9995 - val_loss: 0.1061 - val_acc: 0.9749\n",
      "Epoch 160/200\n",
      "48000/48000 [==============================] - 2s 48us/step - loss: 0.0066 - acc: 0.9996 - val_loss: 0.1049 - val_acc: 0.9752\n",
      "Epoch 161/200\n",
      "48000/48000 [==============================] - 2s 49us/step - loss: 0.0064 - acc: 0.9996 - val_loss: 0.1051 - val_acc: 0.9750\n",
      "Epoch 162/200\n",
      "48000/48000 [==============================] - 2s 45us/step - loss: 0.0063 - acc: 0.9996 - val_loss: 0.1065 - val_acc: 0.9752\n",
      "Epoch 163/200\n",
      "48000/48000 [==============================] - 2s 47us/step - loss: 0.0062 - acc: 0.9996 - val_loss: 0.1062 - val_acc: 0.9747\n",
      "Epoch 164/200\n",
      "48000/48000 [==============================] - 2s 47us/step - loss: 0.0061 - acc: 0.9996 - val_loss: 0.1064 - val_acc: 0.9745\n",
      "Epoch 165/200\n",
      "48000/48000 [==============================] - 2s 48us/step - loss: 0.0060 - acc: 0.9996 - val_loss: 0.1066 - val_acc: 0.9743\n",
      "Epoch 166/200\n",
      "48000/48000 [==============================] - 2s 43us/step - loss: 0.0060 - acc: 0.9996 - val_loss: 0.1066 - val_acc: 0.9757\n",
      "Epoch 167/200\n",
      "48000/48000 [==============================] - 2s 45us/step - loss: 0.0058 - acc: 0.9996 - val_loss: 0.1071 - val_acc: 0.9749\n",
      "Epoch 168/200\n",
      "48000/48000 [==============================] - 2s 47us/step - loss: 0.0058 - acc: 0.9997 - val_loss: 0.1062 - val_acc: 0.9759\n",
      "Epoch 169/200\n",
      "48000/48000 [==============================] - 2s 48us/step - loss: 0.0056 - acc: 0.9997 - val_loss: 0.1065 - val_acc: 0.9749\n",
      "Epoch 170/200\n",
      "48000/48000 [==============================] - 2s 44us/step - loss: 0.0055 - acc: 0.9996 - val_loss: 0.1073 - val_acc: 0.9747\n",
      "Epoch 171/200\n",
      "48000/48000 [==============================] - 2s 45us/step - loss: 0.0054 - acc: 0.9997 - val_loss: 0.1066 - val_acc: 0.9753\n",
      "Epoch 172/200\n",
      "48000/48000 [==============================] - 2s 43us/step - loss: 0.0053 - acc: 0.9997 - val_loss: 0.1073 - val_acc: 0.9750\n",
      "Epoch 173/200\n",
      "48000/48000 [==============================] - 2s 42us/step - loss: 0.0052 - acc: 0.9997 - val_loss: 0.1076 - val_acc: 0.9745\n",
      "Epoch 174/200\n",
      "48000/48000 [==============================] - 2s 41us/step - loss: 0.0052 - acc: 0.9997 - val_loss: 0.1075 - val_acc: 0.9751\n",
      "Epoch 175/200\n",
      "48000/48000 [==============================] - 2s 43us/step - loss: 0.0051 - acc: 0.9998 - val_loss: 0.1080 - val_acc: 0.9751\n",
      "Epoch 176/200\n"
     ]
    },
    {
     "name": "stdout",
     "output_type": "stream",
     "text": [
      "48000/48000 [==============================] - 2s 43us/step - loss: 0.0050 - acc: 0.9998 - val_loss: 0.1085 - val_acc: 0.9748\n",
      "Epoch 177/200\n",
      "48000/48000 [==============================] - 2s 43us/step - loss: 0.0049 - acc: 0.9998 - val_loss: 0.1077 - val_acc: 0.9750\n",
      "Epoch 178/200\n",
      "48000/48000 [==============================] - 2s 42us/step - loss: 0.0048 - acc: 0.9998 - val_loss: 0.1082 - val_acc: 0.9752\n",
      "Epoch 179/200\n",
      "48000/48000 [==============================] - 2s 41us/step - loss: 0.0048 - acc: 0.9998 - val_loss: 0.1085 - val_acc: 0.9754\n",
      "Epoch 180/200\n",
      "48000/48000 [==============================] - 2s 44us/step - loss: 0.0047 - acc: 0.9998 - val_loss: 0.1089 - val_acc: 0.9746\n",
      "Epoch 181/200\n",
      "48000/48000 [==============================] - 2s 43us/step - loss: 0.0046 - acc: 0.9998 - val_loss: 0.1090 - val_acc: 0.9748\n",
      "Epoch 182/200\n",
      "48000/48000 [==============================] - 2s 42us/step - loss: 0.0045 - acc: 0.9999 - val_loss: 0.1090 - val_acc: 0.9748\n",
      "Epoch 183/200\n",
      "48000/48000 [==============================] - 2s 42us/step - loss: 0.0045 - acc: 0.9998 - val_loss: 0.1091 - val_acc: 0.9752\n",
      "Epoch 184/200\n",
      "48000/48000 [==============================] - 2s 44us/step - loss: 0.0044 - acc: 0.9999 - val_loss: 0.1098 - val_acc: 0.9748\n",
      "Epoch 185/200\n",
      "48000/48000 [==============================] - 2s 42us/step - loss: 0.0044 - acc: 0.9999 - val_loss: 0.1095 - val_acc: 0.9749\n",
      "Epoch 186/200\n",
      "48000/48000 [==============================] - 2s 43us/step - loss: 0.0042 - acc: 0.9999 - val_loss: 0.1097 - val_acc: 0.9751\n",
      "Epoch 187/200\n",
      "48000/48000 [==============================] - 3s 55us/step - loss: 0.0042 - acc: 0.9998 - val_loss: 0.1097 - val_acc: 0.9755\n",
      "Epoch 188/200\n",
      "48000/48000 [==============================] - 3s 68us/step - loss: 0.0041 - acc: 0.9999 - val_loss: 0.1099 - val_acc: 0.9754\n",
      "Epoch 189/200\n",
      "48000/48000 [==============================] - 3s 53us/step - loss: 0.0041 - acc: 0.9999 - val_loss: 0.1105 - val_acc: 0.9751\n",
      "Epoch 190/200\n",
      "48000/48000 [==============================] - 4s 73us/step - loss: 0.0040 - acc: 0.9998 - val_loss: 0.1104 - val_acc: 0.9753\n",
      "Epoch 191/200\n",
      "48000/48000 [==============================] - 3s 69us/step - loss: 0.0040 - acc: 0.9999 - val_loss: 0.1103 - val_acc: 0.9751\n",
      "Epoch 192/200\n",
      "48000/48000 [==============================] - 3s 65us/step - loss: 0.0039 - acc: 0.9999 - val_loss: 0.1104 - val_acc: 0.9748\n",
      "Epoch 193/200\n",
      "48000/48000 [==============================] - 3s 62us/step - loss: 0.0039 - acc: 0.9999 - val_loss: 0.1102 - val_acc: 0.9751\n",
      "Epoch 194/200\n",
      "48000/48000 [==============================] - 3s 61us/step - loss: 0.0038 - acc: 0.9999 - val_loss: 0.1103 - val_acc: 0.9750\n",
      "Epoch 195/200\n",
      "48000/48000 [==============================] - 2s 48us/step - loss: 0.0037 - acc: 0.9999 - val_loss: 0.1110 - val_acc: 0.9750\n",
      "Epoch 196/200\n",
      "48000/48000 [==============================] - 3s 56us/step - loss: 0.0037 - acc: 0.9999 - val_loss: 0.1108 - val_acc: 0.9745\n",
      "Epoch 197/200\n",
      "48000/48000 [==============================] - 3s 57us/step - loss: 0.0036 - acc: 0.9999 - val_loss: 0.1110 - val_acc: 0.9753\n",
      "Epoch 198/200\n",
      "48000/48000 [==============================] - 2s 47us/step - loss: 0.0036 - acc: 0.9999 - val_loss: 0.1113 - val_acc: 0.9746\n",
      "Epoch 199/200\n",
      "48000/48000 [==============================] - 3s 62us/step - loss: 0.0035 - acc: 0.9999 - val_loss: 0.1113 - val_acc: 0.9751\n",
      "Epoch 200/200\n",
      "48000/48000 [==============================] - 2s 50us/step - loss: 0.0035 - acc: 0.9999 - val_loss: 0.1114 - val_acc: 0.9749\n"
     ]
    }
   ],
   "source": [
    "history = model.fit(X_train,Y_train,batch_size=BATCH_SIZE,epochs=NB_EPOCH,verbose=VERBOSE,validation_split=VALIDATION_SPLIT)"
   ]
  },
  {
   "cell_type": "code",
   "execution_count": 54,
   "metadata": {
    "ExecuteTime": {
     "end_time": "2019-05-04T05:31:56.191539Z",
     "start_time": "2019-05-04T05:31:55.550553Z"
    }
   },
   "outputs": [
    {
     "name": "stdout",
     "output_type": "stream",
     "text": [
      "10000/10000 [==============================] - 1s 62us/step\n",
      "Test score: 0.10107037865651727\n",
      "Test accuracy: 0.9753\n"
     ]
    }
   ],
   "source": [
    "score = model.evaluate(X_test,Y_test,verbose=VERBOSE)\n",
    "print('Test score:',score[0])\n",
    "print('Test accuracy:',score[1])"
   ]
  },
  {
   "cell_type": "code",
   "execution_count": 57,
   "metadata": {
    "ExecuteTime": {
     "end_time": "2019-05-04T05:35:05.094050Z",
     "start_time": "2019-05-04T05:35:04.798240Z"
    }
   },
   "outputs": [
    {
     "name": "stdout",
     "output_type": "stream",
     "text": [
      "_________________________________________________________________\n",
      "Layer (type)                 Output Shape              Param #   \n",
      "=================================================================\n",
      "dense_12 (Dense)             (None, 128)               100480    \n",
      "_________________________________________________________________\n",
      "activation_11 (Activation)   (None, 128)               0         \n",
      "_________________________________________________________________\n",
      "dropout_1 (Dropout)          (None, 128)               0         \n",
      "_________________________________________________________________\n",
      "dense_13 (Dense)             (None, 128)               16512     \n",
      "_________________________________________________________________\n",
      "activation_12 (Activation)   (None, 128)               0         \n",
      "_________________________________________________________________\n",
      "dropout_2 (Dropout)          (None, 128)               0         \n",
      "_________________________________________________________________\n",
      "dense_14 (Dense)             (None, 128)               16512     \n",
      "_________________________________________________________________\n",
      "activation_13 (Activation)   (None, 128)               0         \n",
      "_________________________________________________________________\n",
      "dense_15 (Dense)             (None, 10)                1290      \n",
      "_________________________________________________________________\n",
      "activation_14 (Activation)   (None, 10)                0         \n",
      "=================================================================\n",
      "Total params: 134,794\n",
      "Trainable params: 134,794\n",
      "Non-trainable params: 0\n",
      "_________________________________________________________________\n"
     ]
    }
   ],
   "source": [
    "from keras.layers.core import Dense,Dropout,Activation\n",
    "DROUPOUT=0.3\n",
    "model= Sequential()\n",
    "model.add(Dense(N_HIDDEN,input_shape=(RESHAPED,)))\n",
    "model.add(Activation('relu'))\n",
    "model.add(Dropout(DROUPOUT))\n",
    "model.add(Dense(N_HIDDEN))\n",
    "model.add(Activation('relu'))\n",
    "model.add(Dropout(DROUPOUT))\n",
    "model.add(Dense(N_HIDDEN))\n",
    "model.add(Activation('relu'))\n",
    "model.add(Dense(NB_CLASSES))\n",
    "model.add(Activation('softmax'))\n",
    "model.summary()"
   ]
  },
  {
   "cell_type": "code",
   "execution_count": 58,
   "metadata": {
    "ExecuteTime": {
     "end_time": "2019-05-04T05:35:17.574564Z",
     "start_time": "2019-05-04T05:35:17.519980Z"
    }
   },
   "outputs": [],
   "source": [
    "model.compile(loss='categorical_crossentropy',optimizer=OPTIMIZER,metrics=['accuracy'])"
   ]
  },
  {
   "cell_type": "code",
   "execution_count": 59,
   "metadata": {
    "ExecuteTime": {
     "end_time": "2019-05-04T05:44:29.088170Z",
     "start_time": "2019-05-04T05:35:42.933284Z"
    }
   },
   "outputs": [
    {
     "name": "stdout",
     "output_type": "stream",
     "text": [
      "Train on 48000 samples, validate on 12000 samples\n",
      "Epoch 1/200\n",
      "48000/48000 [==============================] - 5s 96us/step - loss: 1.9440 - acc: 0.3686 - val_loss: 1.1384 - val_acc: 0.7584\n",
      "Epoch 2/200\n",
      "48000/48000 [==============================] - 3s 55us/step - loss: 1.0296 - acc: 0.6741 - val_loss: 0.5566 - val_acc: 0.8572\n",
      "Epoch 3/200\n",
      "48000/48000 [==============================] - 3s 60us/step - loss: 0.7201 - acc: 0.7727 - val_loss: 0.4265 - val_acc: 0.8808\n",
      "Epoch 4/200\n",
      "48000/48000 [==============================] - 3s 56us/step - loss: 0.5969 - acc: 0.8132 - val_loss: 0.3659 - val_acc: 0.8932\n",
      "Epoch 5/200\n",
      "48000/48000 [==============================] - 3s 54us/step - loss: 0.5303 - acc: 0.8371 - val_loss: 0.3296 - val_acc: 0.9018\n",
      "Epoch 6/200\n",
      "48000/48000 [==============================] - 3s 55us/step - loss: 0.4848 - acc: 0.8518 - val_loss: 0.3056 - val_acc: 0.9086\n",
      "Epoch 7/200\n",
      "48000/48000 [==============================] - 3s 56us/step - loss: 0.4508 - acc: 0.8650 - val_loss: 0.2846 - val_acc: 0.9154\n",
      "Epoch 8/200\n",
      "48000/48000 [==============================] - 3s 55us/step - loss: 0.4231 - acc: 0.8732 - val_loss: 0.2709 - val_acc: 0.9192\n",
      "Epoch 9/200\n",
      "48000/48000 [==============================] - 3s 53us/step - loss: 0.3984 - acc: 0.8806 - val_loss: 0.2564 - val_acc: 0.9236\n",
      "Epoch 10/200\n",
      "48000/48000 [==============================] - 3s 55us/step - loss: 0.3778 - acc: 0.8866 - val_loss: 0.2437 - val_acc: 0.9270\n",
      "Epoch 11/200\n",
      "48000/48000 [==============================] - 3s 57us/step - loss: 0.3620 - acc: 0.8915 - val_loss: 0.2343 - val_acc: 0.9285\n",
      "Epoch 12/200\n",
      "48000/48000 [==============================] - 3s 54us/step - loss: 0.3458 - acc: 0.8963 - val_loss: 0.2250 - val_acc: 0.9320\n",
      "Epoch 13/200\n",
      "48000/48000 [==============================] - 3s 54us/step - loss: 0.3316 - acc: 0.9004 - val_loss: 0.2153 - val_acc: 0.9352\n",
      "Epoch 14/200\n",
      "48000/48000 [==============================] - 3s 55us/step - loss: 0.3209 - acc: 0.9046 - val_loss: 0.2077 - val_acc: 0.9375\n",
      "Epoch 15/200\n",
      "48000/48000 [==============================] - 3s 56us/step - loss: 0.3102 - acc: 0.9072 - val_loss: 0.2000 - val_acc: 0.9382\n",
      "Epoch 16/200\n",
      "48000/48000 [==============================] - 3s 56us/step - loss: 0.2979 - acc: 0.9108 - val_loss: 0.1946 - val_acc: 0.9410\n",
      "Epoch 17/200\n",
      "48000/48000 [==============================] - 3s 53us/step - loss: 0.2885 - acc: 0.9142 - val_loss: 0.1874 - val_acc: 0.9435\n",
      "Epoch 18/200\n",
      "48000/48000 [==============================] - 3s 55us/step - loss: 0.2836 - acc: 0.9155 - val_loss: 0.1827 - val_acc: 0.9449\n",
      "Epoch 19/200\n",
      "48000/48000 [==============================] - 3s 57us/step - loss: 0.2733 - acc: 0.9186 - val_loss: 0.1791 - val_acc: 0.9463\n",
      "Epoch 20/200\n",
      "48000/48000 [==============================] - 3s 54us/step - loss: 0.2655 - acc: 0.9214 - val_loss: 0.1733 - val_acc: 0.9478\n",
      "Epoch 21/200\n",
      "48000/48000 [==============================] - 3s 55us/step - loss: 0.2565 - acc: 0.9233 - val_loss: 0.1696 - val_acc: 0.9483\n",
      "Epoch 22/200\n",
      "48000/48000 [==============================] - 3s 55us/step - loss: 0.2488 - acc: 0.9256 - val_loss: 0.1656 - val_acc: 0.9497\n",
      "Epoch 23/200\n",
      "48000/48000 [==============================] - 3s 57us/step - loss: 0.2471 - acc: 0.9271 - val_loss: 0.1619 - val_acc: 0.9508\n",
      "Epoch 24/200\n",
      "48000/48000 [==============================] - 3s 53us/step - loss: 0.2394 - acc: 0.9296 - val_loss: 0.1582 - val_acc: 0.9525\n",
      "Epoch 25/200\n",
      "48000/48000 [==============================] - 3s 54us/step - loss: 0.2367 - acc: 0.9301 - val_loss: 0.1540 - val_acc: 0.9537\n",
      "Epoch 26/200\n",
      "48000/48000 [==============================] - 3s 56us/step - loss: 0.2296 - acc: 0.9327 - val_loss: 0.1524 - val_acc: 0.9540\n",
      "Epoch 27/200\n",
      "48000/48000 [==============================] - 3s 53us/step - loss: 0.2258 - acc: 0.9343 - val_loss: 0.1489 - val_acc: 0.9551\n",
      "Epoch 28/200\n",
      "48000/48000 [==============================] - 3s 53us/step - loss: 0.2194 - acc: 0.9357 - val_loss: 0.1454 - val_acc: 0.9562\n",
      "Epoch 29/200\n",
      "48000/48000 [==============================] - 3s 54us/step - loss: 0.2156 - acc: 0.9357 - val_loss: 0.1433 - val_acc: 0.9564\n",
      "Epoch 30/200\n",
      "48000/48000 [==============================] - 3s 58us/step - loss: 0.2127 - acc: 0.9365 - val_loss: 0.1399 - val_acc: 0.9579\n",
      "Epoch 31/200\n",
      "48000/48000 [==============================] - 3s 54us/step - loss: 0.2048 - acc: 0.9395 - val_loss: 0.1403 - val_acc: 0.9575\n",
      "Epoch 32/200\n",
      "48000/48000 [==============================] - 3s 54us/step - loss: 0.2040 - acc: 0.9386 - val_loss: 0.1368 - val_acc: 0.9581\n",
      "Epoch 33/200\n",
      "48000/48000 [==============================] - 3s 56us/step - loss: 0.1986 - acc: 0.9409 - val_loss: 0.1347 - val_acc: 0.9590\n",
      "Epoch 34/200\n",
      "48000/48000 [==============================] - 3s 54us/step - loss: 0.1951 - acc: 0.9416 - val_loss: 0.1336 - val_acc: 0.9593\n",
      "Epoch 35/200\n",
      "48000/48000 [==============================] - 3s 53us/step - loss: 0.1922 - acc: 0.9427 - val_loss: 0.1316 - val_acc: 0.9600\n",
      "Epoch 36/200\n",
      "48000/48000 [==============================] - 3s 54us/step - loss: 0.1908 - acc: 0.9427 - val_loss: 0.1296 - val_acc: 0.9602\n",
      "Epoch 37/200\n",
      "48000/48000 [==============================] - 3s 55us/step - loss: 0.1853 - acc: 0.9454 - val_loss: 0.1278 - val_acc: 0.9611\n",
      "Epoch 38/200\n",
      "48000/48000 [==============================] - 2s 51us/step - loss: 0.1821 - acc: 0.9441 - val_loss: 0.1266 - val_acc: 0.9617\n",
      "Epoch 39/200\n",
      "48000/48000 [==============================] - 2s 51us/step - loss: 0.1802 - acc: 0.9449 - val_loss: 0.1250 - val_acc: 0.9623\n",
      "Epoch 40/200\n",
      "48000/48000 [==============================] - 3s 55us/step - loss: 0.1769 - acc: 0.9480 - val_loss: 0.1230 - val_acc: 0.9624\n",
      "Epoch 41/200\n",
      "48000/48000 [==============================] - 3s 54us/step - loss: 0.1766 - acc: 0.9469 - val_loss: 0.1223 - val_acc: 0.9636\n",
      "Epoch 42/200\n",
      "48000/48000 [==============================] - 2s 50us/step - loss: 0.1729 - acc: 0.9486 - val_loss: 0.1208 - val_acc: 0.9638\n",
      "Epoch 43/200\n",
      "48000/48000 [==============================] - 3s 53us/step - loss: 0.1711 - acc: 0.9493 - val_loss: 0.1199 - val_acc: 0.9633\n",
      "Epoch 44/200\n",
      "48000/48000 [==============================] - 3s 54us/step - loss: 0.1677 - acc: 0.9498 - val_loss: 0.1181 - val_acc: 0.9641\n",
      "Epoch 45/200\n",
      "48000/48000 [==============================] - 3s 55us/step - loss: 0.1641 - acc: 0.9509 - val_loss: 0.1168 - val_acc: 0.9646\n",
      "Epoch 46/200\n",
      "48000/48000 [==============================] - 2s 51us/step - loss: 0.1631 - acc: 0.9499 - val_loss: 0.1163 - val_acc: 0.9643\n",
      "Epoch 47/200\n",
      "48000/48000 [==============================] - 3s 53us/step - loss: 0.1616 - acc: 0.9516 - val_loss: 0.1147 - val_acc: 0.9644\n",
      "Epoch 48/200\n",
      "48000/48000 [==============================] - 3s 55us/step - loss: 0.1587 - acc: 0.9527 - val_loss: 0.1135 - val_acc: 0.9654\n",
      "Epoch 49/200\n",
      "48000/48000 [==============================] - 3s 53us/step - loss: 0.1568 - acc: 0.9527 - val_loss: 0.1125 - val_acc: 0.9658\n",
      "Epoch 50/200\n",
      "48000/48000 [==============================] - 2s 52us/step - loss: 0.1546 - acc: 0.9538 - val_loss: 0.1117 - val_acc: 0.9666\n",
      "Epoch 51/200\n",
      "48000/48000 [==============================] - 3s 54us/step - loss: 0.1543 - acc: 0.9543 - val_loss: 0.1111 - val_acc: 0.9663\n",
      "Epoch 52/200\n",
      "48000/48000 [==============================] - 3s 55us/step - loss: 0.1463 - acc: 0.9569 - val_loss: 0.1099 - val_acc: 0.9669\n",
      "Epoch 53/200\n",
      "48000/48000 [==============================] - 3s 52us/step - loss: 0.1477 - acc: 0.9561 - val_loss: 0.1090 - val_acc: 0.9673\n",
      "Epoch 54/200\n",
      "48000/48000 [==============================] - 2s 52us/step - loss: 0.1463 - acc: 0.9564 - val_loss: 0.1081 - val_acc: 0.9678\n",
      "Epoch 55/200\n",
      "48000/48000 [==============================] - 3s 54us/step - loss: 0.1437 - acc: 0.9567 - val_loss: 0.1073 - val_acc: 0.9676\n",
      "Epoch 56/200\n",
      "48000/48000 [==============================] - 3s 54us/step - loss: 0.1431 - acc: 0.9566 - val_loss: 0.1067 - val_acc: 0.9682\n",
      "Epoch 57/200\n",
      "48000/48000 [==============================] - 2s 51us/step - loss: 0.1399 - acc: 0.9579 - val_loss: 0.1056 - val_acc: 0.9681\n",
      "Epoch 58/200\n",
      "48000/48000 [==============================] - 2s 51us/step - loss: 0.1424 - acc: 0.9575 - val_loss: 0.1049 - val_acc: 0.9691\n",
      "Epoch 59/200\n"
     ]
    },
    {
     "name": "stdout",
     "output_type": "stream",
     "text": [
      "48000/48000 [==============================] - 3s 56us/step - loss: 0.1385 - acc: 0.9580 - val_loss: 0.1035 - val_acc: 0.9691\n",
      "Epoch 60/200\n",
      "48000/48000 [==============================] - 3s 55us/step - loss: 0.1385 - acc: 0.9575 - val_loss: 0.1030 - val_acc: 0.9698\n",
      "Epoch 61/200\n",
      "48000/48000 [==============================] - 3s 54us/step - loss: 0.1347 - acc: 0.9602 - val_loss: 0.1028 - val_acc: 0.9688\n",
      "Epoch 62/200\n",
      "48000/48000 [==============================] - 3s 55us/step - loss: 0.1330 - acc: 0.9606 - val_loss: 0.1019 - val_acc: 0.9698\n",
      "Epoch 63/200\n",
      "48000/48000 [==============================] - 3s 56us/step - loss: 0.1334 - acc: 0.9590 - val_loss: 0.1019 - val_acc: 0.9701\n",
      "Epoch 64/200\n",
      "48000/48000 [==============================] - 3s 53us/step - loss: 0.1315 - acc: 0.9605 - val_loss: 0.1024 - val_acc: 0.9701\n",
      "Epoch 65/200\n",
      "48000/48000 [==============================] - 3s 55us/step - loss: 0.1321 - acc: 0.9609 - val_loss: 0.1005 - val_acc: 0.9705\n",
      "Epoch 66/200\n",
      "48000/48000 [==============================] - 3s 57us/step - loss: 0.1261 - acc: 0.9619 - val_loss: 0.1001 - val_acc: 0.9708\n",
      "Epoch 67/200\n",
      "48000/48000 [==============================] - 3s 54us/step - loss: 0.1284 - acc: 0.9617 - val_loss: 0.0997 - val_acc: 0.9705\n",
      "Epoch 68/200\n",
      "48000/48000 [==============================] - 3s 55us/step - loss: 0.1268 - acc: 0.9612 - val_loss: 0.0992 - val_acc: 0.9706\n",
      "Epoch 69/200\n",
      "48000/48000 [==============================] - 3s 57us/step - loss: 0.1246 - acc: 0.9624 - val_loss: 0.0990 - val_acc: 0.9704\n",
      "Epoch 70/200\n",
      "48000/48000 [==============================] - 3s 58us/step - loss: 0.1255 - acc: 0.9622 - val_loss: 0.0982 - val_acc: 0.9708\n",
      "Epoch 71/200\n",
      "48000/48000 [==============================] - 3s 53us/step - loss: 0.1214 - acc: 0.9627 - val_loss: 0.0975 - val_acc: 0.9713\n",
      "Epoch 72/200\n",
      "48000/48000 [==============================] - 3s 55us/step - loss: 0.1221 - acc: 0.9623 - val_loss: 0.0968 - val_acc: 0.9712\n",
      "Epoch 73/200\n",
      "48000/48000 [==============================] - 3s 57us/step - loss: 0.1188 - acc: 0.9642 - val_loss: 0.0971 - val_acc: 0.9712\n",
      "Epoch 74/200\n",
      "48000/48000 [==============================] - 3s 54us/step - loss: 0.1191 - acc: 0.9640 - val_loss: 0.0961 - val_acc: 0.9716\n",
      "Epoch 75/200\n",
      "48000/48000 [==============================] - 3s 53us/step - loss: 0.1185 - acc: 0.9639 - val_loss: 0.0963 - val_acc: 0.9717\n",
      "Epoch 76/200\n",
      "48000/48000 [==============================] - 3s 54us/step - loss: 0.1154 - acc: 0.9648 - val_loss: 0.0952 - val_acc: 0.9728\n",
      "Epoch 77/200\n",
      "48000/48000 [==============================] - 3s 57us/step - loss: 0.1161 - acc: 0.9645 - val_loss: 0.0953 - val_acc: 0.9718\n",
      "Epoch 78/200\n",
      "48000/48000 [==============================] - 3s 53us/step - loss: 0.1168 - acc: 0.9647 - val_loss: 0.0944 - val_acc: 0.9726\n",
      "Epoch 79/200\n",
      "48000/48000 [==============================] - 3s 55us/step - loss: 0.1158 - acc: 0.9650 - val_loss: 0.0938 - val_acc: 0.9731\n",
      "Epoch 80/200\n",
      "48000/48000 [==============================] - 3s 54us/step - loss: 0.1107 - acc: 0.9657 - val_loss: 0.0946 - val_acc: 0.9717\n",
      "Epoch 81/200\n",
      "48000/48000 [==============================] - 3s 57us/step - loss: 0.1116 - acc: 0.9657 - val_loss: 0.0936 - val_acc: 0.9726\n",
      "Epoch 82/200\n",
      "48000/48000 [==============================] - 3s 55us/step - loss: 0.1116 - acc: 0.9660 - val_loss: 0.0934 - val_acc: 0.9727\n",
      "Epoch 83/200\n",
      "48000/48000 [==============================] - 3s 53us/step - loss: 0.1086 - acc: 0.9672 - val_loss: 0.0924 - val_acc: 0.9730\n",
      "Epoch 84/200\n",
      "48000/48000 [==============================] - 3s 56us/step - loss: 0.1067 - acc: 0.9672 - val_loss: 0.0919 - val_acc: 0.9735\n",
      "Epoch 85/200\n",
      "48000/48000 [==============================] - 3s 54us/step - loss: 0.1076 - acc: 0.9672 - val_loss: 0.0924 - val_acc: 0.9737\n",
      "Epoch 86/200\n",
      "48000/48000 [==============================] - 2s 52us/step - loss: 0.1088 - acc: 0.9670 - val_loss: 0.0920 - val_acc: 0.9732\n",
      "Epoch 87/200\n",
      "48000/48000 [==============================] - 3s 55us/step - loss: 0.1055 - acc: 0.9679 - val_loss: 0.0922 - val_acc: 0.9729\n",
      "Epoch 88/200\n",
      "48000/48000 [==============================] - 3s 56us/step - loss: 0.1055 - acc: 0.9670 - val_loss: 0.0914 - val_acc: 0.9725\n",
      "Epoch 89/200\n",
      "48000/48000 [==============================] - 3s 55us/step - loss: 0.1029 - acc: 0.9686 - val_loss: 0.0915 - val_acc: 0.9730\n",
      "Epoch 90/200\n",
      "48000/48000 [==============================] - 3s 53us/step - loss: 0.1046 - acc: 0.9680 - val_loss: 0.0906 - val_acc: 0.9742\n",
      "Epoch 91/200\n",
      "48000/48000 [==============================] - 2s 52us/step - loss: 0.1036 - acc: 0.9683 - val_loss: 0.0903 - val_acc: 0.9738\n",
      "Epoch 92/200\n",
      "48000/48000 [==============================] - 3s 55us/step - loss: 0.1013 - acc: 0.9688 - val_loss: 0.0902 - val_acc: 0.9739\n",
      "Epoch 93/200\n",
      "48000/48000 [==============================] - 3s 55us/step - loss: 0.0985 - acc: 0.9698 - val_loss: 0.0904 - val_acc: 0.9737\n",
      "Epoch 94/200\n",
      "48000/48000 [==============================] - 2s 52us/step - loss: 0.0999 - acc: 0.9693 - val_loss: 0.0898 - val_acc: 0.9741\n",
      "Epoch 95/200\n",
      "48000/48000 [==============================] - 3s 53us/step - loss: 0.0995 - acc: 0.9702 - val_loss: 0.0897 - val_acc: 0.9738\n",
      "Epoch 96/200\n",
      "48000/48000 [==============================] - 3s 56us/step - loss: 0.0982 - acc: 0.9703 - val_loss: 0.0895 - val_acc: 0.9739\n",
      "Epoch 97/200\n",
      "48000/48000 [==============================] - 3s 54us/step - loss: 0.0972 - acc: 0.9695 - val_loss: 0.0898 - val_acc: 0.9746\n",
      "Epoch 98/200\n",
      "48000/48000 [==============================] - 3s 53us/step - loss: 0.0972 - acc: 0.9701 - val_loss: 0.0888 - val_acc: 0.9751\n",
      "Epoch 99/200\n",
      "48000/48000 [==============================] - 3s 56us/step - loss: 0.0991 - acc: 0.9691 - val_loss: 0.0879 - val_acc: 0.9748\n",
      "Epoch 100/200\n",
      "48000/48000 [==============================] - 3s 54us/step - loss: 0.0956 - acc: 0.9705 - val_loss: 0.0883 - val_acc: 0.9749\n",
      "Epoch 101/200\n",
      "48000/48000 [==============================] - 2s 52us/step - loss: 0.0976 - acc: 0.9701 - val_loss: 0.0881 - val_acc: 0.9745\n",
      "Epoch 102/200\n",
      "48000/48000 [==============================] - 3s 53us/step - loss: 0.0958 - acc: 0.9696 - val_loss: 0.0883 - val_acc: 0.9743\n",
      "Epoch 103/200\n",
      "48000/48000 [==============================] - 3s 55us/step - loss: 0.0929 - acc: 0.9716 - val_loss: 0.0887 - val_acc: 0.9748\n",
      "Epoch 104/200\n",
      "48000/48000 [==============================] - 3s 54us/step - loss: 0.0970 - acc: 0.9696 - val_loss: 0.0884 - val_acc: 0.9747\n",
      "Epoch 105/200\n",
      "48000/48000 [==============================] - 3s 53us/step - loss: 0.0936 - acc: 0.9706 - val_loss: 0.0882 - val_acc: 0.9744\n",
      "Epoch 106/200\n",
      "48000/48000 [==============================] - 3s 55us/step - loss: 0.0923 - acc: 0.9712 - val_loss: 0.0871 - val_acc: 0.9755\n",
      "Epoch 107/200\n",
      "48000/48000 [==============================] - 3s 53us/step - loss: 0.0929 - acc: 0.9717 - val_loss: 0.0870 - val_acc: 0.9757\n",
      "Epoch 108/200\n",
      "48000/48000 [==============================] - 3s 53us/step - loss: 0.0916 - acc: 0.9711 - val_loss: 0.0877 - val_acc: 0.9752\n",
      "Epoch 109/200\n",
      "48000/48000 [==============================] - 3s 53us/step - loss: 0.0907 - acc: 0.9715 - val_loss: 0.0873 - val_acc: 0.9752\n",
      "Epoch 110/200\n",
      "48000/48000 [==============================] - 3s 55us/step - loss: 0.0880 - acc: 0.9725 - val_loss: 0.0867 - val_acc: 0.9758\n",
      "Epoch 111/200\n",
      "48000/48000 [==============================] - 2s 51us/step - loss: 0.0887 - acc: 0.9730 - val_loss: 0.0858 - val_acc: 0.9755\n",
      "Epoch 112/200\n",
      "48000/48000 [==============================] - 3s 52us/step - loss: 0.0874 - acc: 0.9723 - val_loss: 0.0867 - val_acc: 0.9753\n",
      "Epoch 113/200\n",
      "48000/48000 [==============================] - 3s 54us/step - loss: 0.0888 - acc: 0.9730 - val_loss: 0.0859 - val_acc: 0.9758\n",
      "Epoch 114/200\n",
      "48000/48000 [==============================] - 3s 54us/step - loss: 0.0867 - acc: 0.9735 - val_loss: 0.0869 - val_acc: 0.9756\n",
      "Epoch 115/200\n",
      "48000/48000 [==============================] - 2s 51us/step - loss: 0.0844 - acc: 0.9738 - val_loss: 0.0858 - val_acc: 0.9758\n",
      "Epoch 116/200\n",
      "48000/48000 [==============================] - 3s 53us/step - loss: 0.0844 - acc: 0.9739 - val_loss: 0.0861 - val_acc: 0.9759\n",
      "Epoch 117/200\n",
      "48000/48000 [==============================] - 3s 53us/step - loss: 0.0841 - acc: 0.9737 - val_loss: 0.0862 - val_acc: 0.9763\n"
     ]
    },
    {
     "name": "stdout",
     "output_type": "stream",
     "text": [
      "Epoch 118/200\n",
      "48000/48000 [==============================] - 3s 53us/step - loss: 0.0840 - acc: 0.9740 - val_loss: 0.0864 - val_acc: 0.9760\n",
      "Epoch 119/200\n",
      "48000/48000 [==============================] - 3s 55us/step - loss: 0.0830 - acc: 0.9741 - val_loss: 0.0862 - val_acc: 0.9760\n",
      "Epoch 120/200\n",
      "48000/48000 [==============================] - 3s 58us/step - loss: 0.0810 - acc: 0.9750 - val_loss: 0.0848 - val_acc: 0.9761\n",
      "Epoch 121/200\n",
      "48000/48000 [==============================] - 3s 55us/step - loss: 0.0831 - acc: 0.9741 - val_loss: 0.0854 - val_acc: 0.9765\n",
      "Epoch 122/200\n",
      "48000/48000 [==============================] - 3s 55us/step - loss: 0.0824 - acc: 0.9741 - val_loss: 0.0858 - val_acc: 0.9764\n",
      "Epoch 123/200\n",
      "48000/48000 [==============================] - 3s 56us/step - loss: 0.0837 - acc: 0.9731 - val_loss: 0.0854 - val_acc: 0.9762\n",
      "Epoch 124/200\n",
      "48000/48000 [==============================] - 3s 58us/step - loss: 0.0809 - acc: 0.9746 - val_loss: 0.0851 - val_acc: 0.9763\n",
      "Epoch 125/200\n",
      "48000/48000 [==============================] - 3s 53us/step - loss: 0.0844 - acc: 0.9736 - val_loss: 0.0853 - val_acc: 0.9760\n",
      "Epoch 126/200\n",
      "48000/48000 [==============================] - 3s 54us/step - loss: 0.0807 - acc: 0.9748 - val_loss: 0.0853 - val_acc: 0.9762\n",
      "Epoch 127/200\n",
      "48000/48000 [==============================] - 3s 58us/step - loss: 0.0805 - acc: 0.9738 - val_loss: 0.0843 - val_acc: 0.9766\n",
      "Epoch 128/200\n",
      "48000/48000 [==============================] - 3s 55us/step - loss: 0.0818 - acc: 0.9744 - val_loss: 0.0839 - val_acc: 0.9770\n",
      "Epoch 129/200\n",
      "48000/48000 [==============================] - 3s 53us/step - loss: 0.0795 - acc: 0.9754 - val_loss: 0.0843 - val_acc: 0.9765\n",
      "Epoch 130/200\n",
      "48000/48000 [==============================] - 3s 56us/step - loss: 0.0798 - acc: 0.9753 - val_loss: 0.0840 - val_acc: 0.9764\n",
      "Epoch 131/200\n",
      "48000/48000 [==============================] - 3s 56us/step - loss: 0.0750 - acc: 0.9768 - val_loss: 0.0838 - val_acc: 0.9765\n",
      "Epoch 132/200\n",
      "48000/48000 [==============================] - 3s 55us/step - loss: 0.0791 - acc: 0.9756 - val_loss: 0.0838 - val_acc: 0.9764\n",
      "Epoch 133/200\n",
      "48000/48000 [==============================] - 3s 53us/step - loss: 0.0775 - acc: 0.9755 - val_loss: 0.0829 - val_acc: 0.9767\n",
      "Epoch 134/200\n",
      "48000/48000 [==============================] - 3s 56us/step - loss: 0.0768 - acc: 0.9760 - val_loss: 0.0843 - val_acc: 0.9763\n",
      "Epoch 135/200\n",
      "48000/48000 [==============================] - 3s 55us/step - loss: 0.0760 - acc: 0.9755 - val_loss: 0.0846 - val_acc: 0.9763\n",
      "Epoch 136/200\n",
      "48000/48000 [==============================] - 3s 56us/step - loss: 0.0761 - acc: 0.9753 - val_loss: 0.0846 - val_acc: 0.9767\n",
      "Epoch 137/200\n",
      "48000/48000 [==============================] - 3s 54us/step - loss: 0.0757 - acc: 0.9756 - val_loss: 0.0833 - val_acc: 0.9769\n",
      "Epoch 138/200\n",
      "48000/48000 [==============================] - 3s 53us/step - loss: 0.0738 - acc: 0.9765 - val_loss: 0.0833 - val_acc: 0.9770\n",
      "Epoch 139/200\n",
      "48000/48000 [==============================] - 3s 54us/step - loss: 0.0754 - acc: 0.9759 - val_loss: 0.0824 - val_acc: 0.9773\n",
      "Epoch 140/200\n",
      "48000/48000 [==============================] - 3s 57us/step - loss: 0.0755 - acc: 0.9768 - val_loss: 0.0825 - val_acc: 0.9770\n",
      "Epoch 141/200\n",
      "48000/48000 [==============================] - 3s 56us/step - loss: 0.0770 - acc: 0.9756 - val_loss: 0.0831 - val_acc: 0.9769\n",
      "Epoch 142/200\n",
      "48000/48000 [==============================] - 3s 54us/step - loss: 0.0742 - acc: 0.9759 - val_loss: 0.0833 - val_acc: 0.9766\n",
      "Epoch 143/200\n",
      "48000/48000 [==============================] - 3s 53us/step - loss: 0.0715 - acc: 0.9778 - val_loss: 0.0824 - val_acc: 0.9773\n",
      "Epoch 144/200\n",
      "48000/48000 [==============================] - 3s 57us/step - loss: 0.0719 - acc: 0.9775 - val_loss: 0.0825 - val_acc: 0.9773\n",
      "Epoch 145/200\n",
      "48000/48000 [==============================] - 2s 52us/step - loss: 0.0718 - acc: 0.9778 - val_loss: 0.0833 - val_acc: 0.9772\n",
      "Epoch 146/200\n",
      "48000/48000 [==============================] - 2s 47us/step - loss: 0.0729 - acc: 0.9766 - val_loss: 0.0823 - val_acc: 0.9781\n",
      "Epoch 147/200\n",
      "48000/48000 [==============================] - 3s 55us/step - loss: 0.0695 - acc: 0.9784 - val_loss: 0.0825 - val_acc: 0.9775\n",
      "Epoch 148/200\n",
      "48000/48000 [==============================] - 3s 57us/step - loss: 0.0730 - acc: 0.9767 - val_loss: 0.0820 - val_acc: 0.9778\n",
      "Epoch 149/200\n",
      "48000/48000 [==============================] - 3s 55us/step - loss: 0.0721 - acc: 0.9770 - val_loss: 0.0825 - val_acc: 0.9769\n",
      "Epoch 150/200\n",
      "48000/48000 [==============================] - 3s 55us/step - loss: 0.0685 - acc: 0.9782 - val_loss: 0.0826 - val_acc: 0.9769\n",
      "Epoch 151/200\n",
      "48000/48000 [==============================] - 3s 55us/step - loss: 0.0668 - acc: 0.9788 - val_loss: 0.0831 - val_acc: 0.9773\n",
      "Epoch 152/200\n",
      "48000/48000 [==============================] - 3s 58us/step - loss: 0.0700 - acc: 0.9779 - val_loss: 0.0814 - val_acc: 0.9776\n",
      "Epoch 153/200\n",
      "48000/48000 [==============================] - 3s 55us/step - loss: 0.0714 - acc: 0.9770 - val_loss: 0.0823 - val_acc: 0.9774\n",
      "Epoch 154/200\n",
      "48000/48000 [==============================] - 3s 52us/step - loss: 0.0691 - acc: 0.9789 - val_loss: 0.0826 - val_acc: 0.9772\n",
      "Epoch 155/200\n",
      "48000/48000 [==============================] - 3s 55us/step - loss: 0.0674 - acc: 0.9786 - val_loss: 0.0828 - val_acc: 0.9773\n",
      "Epoch 156/200\n",
      "48000/48000 [==============================] - 3s 56us/step - loss: 0.0706 - acc: 0.9774 - val_loss: 0.0822 - val_acc: 0.9769\n",
      "Epoch 157/200\n",
      "48000/48000 [==============================] - 3s 53us/step - loss: 0.0680 - acc: 0.9784 - val_loss: 0.0819 - val_acc: 0.9777\n",
      "Epoch 158/200\n",
      "48000/48000 [==============================] - 3s 54us/step - loss: 0.0676 - acc: 0.9785 - val_loss: 0.0811 - val_acc: 0.9777\n",
      "Epoch 159/200\n",
      "48000/48000 [==============================] - 3s 56us/step - loss: 0.0654 - acc: 0.9792 - val_loss: 0.0815 - val_acc: 0.9775\n",
      "Epoch 160/200\n",
      "48000/48000 [==============================] - 3s 57us/step - loss: 0.0673 - acc: 0.9785 - val_loss: 0.0819 - val_acc: 0.9775\n",
      "Epoch 161/200\n",
      "48000/48000 [==============================] - 3s 53us/step - loss: 0.0677 - acc: 0.9782 - val_loss: 0.0824 - val_acc: 0.9778\n",
      "Epoch 162/200\n",
      "48000/48000 [==============================] - 3s 53us/step - loss: 0.0642 - acc: 0.9802 - val_loss: 0.0826 - val_acc: 0.9773\n",
      "Epoch 163/200\n",
      "48000/48000 [==============================] - 3s 56us/step - loss: 0.0655 - acc: 0.9799 - val_loss: 0.0820 - val_acc: 0.9771\n",
      "Epoch 164/200\n",
      "48000/48000 [==============================] - 3s 55us/step - loss: 0.0639 - acc: 0.9787 - val_loss: 0.0833 - val_acc: 0.9772\n",
      "Epoch 165/200\n",
      "48000/48000 [==============================] - 2s 52us/step - loss: 0.0640 - acc: 0.9796 - val_loss: 0.0816 - val_acc: 0.9777\n",
      "Epoch 166/200\n",
      "48000/48000 [==============================] - 3s 55us/step - loss: 0.0653 - acc: 0.9791 - val_loss: 0.0821 - val_acc: 0.9778\n",
      "Epoch 167/200\n",
      "48000/48000 [==============================] - 3s 57us/step - loss: 0.0632 - acc: 0.9799 - val_loss: 0.0819 - val_acc: 0.9775\n",
      "Epoch 168/200\n",
      "48000/48000 [==============================] - 2s 51us/step - loss: 0.0629 - acc: 0.9801 - val_loss: 0.0813 - val_acc: 0.9776\n",
      "Epoch 169/200\n",
      "48000/48000 [==============================] - 3s 52us/step - loss: 0.0633 - acc: 0.9792 - val_loss: 0.0815 - val_acc: 0.9777\n",
      "Epoch 170/200\n",
      "48000/48000 [==============================] - 3s 53us/step - loss: 0.0636 - acc: 0.9788 - val_loss: 0.0820 - val_acc: 0.9772\n",
      "Epoch 171/200\n",
      "48000/48000 [==============================] - 3s 55us/step - loss: 0.0660 - acc: 0.9793 - val_loss: 0.0816 - val_acc: 0.9777\n",
      "Epoch 172/200\n",
      "48000/48000 [==============================] - 3s 53us/step - loss: 0.0615 - acc: 0.9803 - val_loss: 0.0825 - val_acc: 0.9779\n",
      "Epoch 173/200\n",
      "48000/48000 [==============================] - 3s 54us/step - loss: 0.0621 - acc: 0.9798 - val_loss: 0.0826 - val_acc: 0.9775\n",
      "Epoch 174/200\n",
      "48000/48000 [==============================] - 3s 54us/step - loss: 0.0600 - acc: 0.9813 - val_loss: 0.0824 - val_acc: 0.9779\n",
      "Epoch 175/200\n",
      "48000/48000 [==============================] - 2s 52us/step - loss: 0.0625 - acc: 0.9799 - val_loss: 0.0819 - val_acc: 0.9775\n",
      "Epoch 176/200\n"
     ]
    },
    {
     "name": "stdout",
     "output_type": "stream",
     "text": [
      "48000/48000 [==============================] - 3s 55us/step - loss: 0.0626 - acc: 0.9794 - val_loss: 0.0823 - val_acc: 0.9782\n",
      "Epoch 177/200\n",
      "48000/48000 [==============================] - 3s 57us/step - loss: 0.0622 - acc: 0.9799 - val_loss: 0.0816 - val_acc: 0.9778\n",
      "Epoch 178/200\n",
      "48000/48000 [==============================] - 3s 54us/step - loss: 0.0593 - acc: 0.9814 - val_loss: 0.0822 - val_acc: 0.9768\n",
      "Epoch 179/200\n",
      "48000/48000 [==============================] - 3s 55us/step - loss: 0.0585 - acc: 0.9817 - val_loss: 0.0826 - val_acc: 0.9778\n",
      "Epoch 180/200\n",
      "48000/48000 [==============================] - 3s 57us/step - loss: 0.0606 - acc: 0.9809 - val_loss: 0.0821 - val_acc: 0.9774\n",
      "Epoch 181/200\n",
      "48000/48000 [==============================] - 3s 58us/step - loss: 0.0603 - acc: 0.9807 - val_loss: 0.0825 - val_acc: 0.9782\n",
      "Epoch 182/200\n",
      "48000/48000 [==============================] - 3s 56us/step - loss: 0.0597 - acc: 0.9803 - val_loss: 0.0817 - val_acc: 0.9779\n",
      "Epoch 183/200\n",
      "48000/48000 [==============================] - 3s 54us/step - loss: 0.0617 - acc: 0.9804 - val_loss: 0.0815 - val_acc: 0.9779\n",
      "Epoch 184/200\n",
      "48000/48000 [==============================] - 3s 55us/step - loss: 0.0589 - acc: 0.9811 - val_loss: 0.0826 - val_acc: 0.9779\n",
      "Epoch 185/200\n",
      "48000/48000 [==============================] - 3s 56us/step - loss: 0.0598 - acc: 0.9810 - val_loss: 0.0824 - val_acc: 0.9774\n",
      "Epoch 186/200\n",
      "48000/48000 [==============================] - 3s 54us/step - loss: 0.0569 - acc: 0.9815 - val_loss: 0.0825 - val_acc: 0.9781\n",
      "Epoch 187/200\n",
      "48000/48000 [==============================] - 3s 55us/step - loss: 0.0575 - acc: 0.9816 - val_loss: 0.0814 - val_acc: 0.9777\n",
      "Epoch 188/200\n",
      "48000/48000 [==============================] - 3s 57us/step - loss: 0.0583 - acc: 0.9806 - val_loss: 0.0827 - val_acc: 0.9781\n",
      "Epoch 189/200\n",
      "48000/48000 [==============================] - 3s 54us/step - loss: 0.0582 - acc: 0.9811 - val_loss: 0.0823 - val_acc: 0.9790\n",
      "Epoch 190/200\n",
      "48000/48000 [==============================] - 3s 55us/step - loss: 0.0578 - acc: 0.9818 - val_loss: 0.0820 - val_acc: 0.9782\n",
      "Epoch 191/200\n",
      "48000/48000 [==============================] - 3s 58us/step - loss: 0.0560 - acc: 0.9824 - val_loss: 0.0816 - val_acc: 0.9787\n",
      "Epoch 192/200\n",
      "48000/48000 [==============================] - 3s 57us/step - loss: 0.0577 - acc: 0.9808 - val_loss: 0.0820 - val_acc: 0.9777\n",
      "Epoch 193/200\n",
      "48000/48000 [==============================] - 3s 54us/step - loss: 0.0547 - acc: 0.9820 - val_loss: 0.0819 - val_acc: 0.9783\n",
      "Epoch 194/200\n",
      "48000/48000 [==============================] - 3s 55us/step - loss: 0.0554 - acc: 0.9820 - val_loss: 0.0820 - val_acc: 0.9780\n",
      "Epoch 195/200\n",
      "48000/48000 [==============================] - 3s 57us/step - loss: 0.0551 - acc: 0.9820 - val_loss: 0.0818 - val_acc: 0.9787\n",
      "Epoch 196/200\n",
      "48000/48000 [==============================] - 3s 55us/step - loss: 0.0565 - acc: 0.9817 - val_loss: 0.0800 - val_acc: 0.9782\n",
      "Epoch 197/200\n",
      "48000/48000 [==============================] - 3s 54us/step - loss: 0.0564 - acc: 0.9815 - val_loss: 0.0810 - val_acc: 0.9780\n",
      "Epoch 198/200\n",
      "48000/48000 [==============================] - 3s 55us/step - loss: 0.0551 - acc: 0.9825 - val_loss: 0.0813 - val_acc: 0.9781\n",
      "Epoch 199/200\n",
      "48000/48000 [==============================] - 3s 56us/step - loss: 0.0551 - acc: 0.9817 - val_loss: 0.0818 - val_acc: 0.9778\n",
      "Epoch 200/200\n",
      "48000/48000 [==============================] - 2s 52us/step - loss: 0.0540 - acc: 0.9825 - val_loss: 0.0821 - val_acc: 0.9776\n"
     ]
    }
   ],
   "source": [
    "history = model.fit(X_train,Y_train,batch_size=BATCH_SIZE,epochs=NB_EPOCH,verbose=VERBOSE,validation_split=VALIDATION_SPLIT)"
   ]
  },
  {
   "cell_type": "code",
   "execution_count": 60,
   "metadata": {
    "ExecuteTime": {
     "end_time": "2019-05-04T05:57:33.439057Z",
     "start_time": "2019-05-04T05:57:32.750773Z"
    }
   },
   "outputs": [
    {
     "name": "stdout",
     "output_type": "stream",
     "text": [
      "10000/10000 [==============================] - 1s 67us/step\n",
      "Test score: 0.07550233487716759\n",
      "Test accuracy: 0.977\n"
     ]
    }
   ],
   "source": [
    "score = model.evaluate(X_test,Y_test,verbose=VERBOSE)\n",
    "print('Test score:',score[0])\n",
    "print('Test accuracy:',score[1])"
   ]
  },
  {
   "cell_type": "code",
   "execution_count": null,
   "metadata": {},
   "outputs": [],
   "source": []
  }
 ],
 "metadata": {
  "kernelspec": {
   "display_name": "Python 3",
   "language": "python",
   "name": "python3"
  },
  "language_info": {
   "codemirror_mode": {
    "name": "ipython",
    "version": 3
   },
   "file_extension": ".py",
   "mimetype": "text/x-python",
   "name": "python",
   "nbconvert_exporter": "python",
   "pygments_lexer": "ipython3",
   "version": "3.6.5"
  }
 },
 "nbformat": 4,
 "nbformat_minor": 2
}
