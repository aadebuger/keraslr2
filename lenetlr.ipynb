{
 "cells": [
  {
   "cell_type": "code",
   "execution_count": 1,
   "metadata": {
    "ExecuteTime": {
     "end_time": "2019-05-04T06:10:46.656535Z",
     "start_time": "2019-05-04T06:10:40.899425Z"
    }
   },
   "outputs": [
    {
     "name": "stderr",
     "output_type": "stream",
     "text": [
      "Using TensorFlow backend.\n",
      "/Users/aadebuger/GEXT/kerasvenv3/lib/python3.6/importlib/_bootstrap.py:219: RuntimeWarning: compiletime version 3.5 of module 'tensorflow.python.framework.fast_tensor_util' does not match runtime version 3.6\n",
      "  return f(*args, **kwds)\n"
     ]
    }
   ],
   "source": [
    "from keras import backend as K \n",
    "from keras.models import Sequential\n",
    "from keras.layers.convolutional import Conv2D\n",
    "from keras.layers.convolutional import MaxPooling2D\n",
    "from keras.layers.core import Activation\n",
    "from keras.layers.core import Flatten\n",
    "from keras.layers.core import Dense\n",
    "from keras.datasets import mnist\n",
    "from keras.utils import np_utils\n",
    "from keras.optimizers import SGD,RMSprop,Adam\n",
    "import numpy as np\n",
    "import matplotlib.pyplot as plt"
   ]
  },
  {
   "cell_type": "code",
   "execution_count": 10,
   "metadata": {
    "ExecuteTime": {
     "end_time": "2019-05-04T06:20:51.347840Z",
     "start_time": "2019-05-04T06:20:51.338198Z"
    }
   },
   "outputs": [],
   "source": [
    "class LeNet:\n",
    "    #staticmethod\n",
    "    def build(input_shape,classes):\n",
    "        model = Sequential()\n",
    "        model.add(Conv2D(20,kernel_size=5,padding=\"same\",\n",
    "                               input_shape=input_shape))\n",
    "        model.add(Activation(\"relu\"))\n",
    "        model.add(MaxPooling2D(pool_size=(2,2),strides=(2,2)))\n",
    "        model.add(Conv2D(50,kernel_size=5,border_mode=\"same\"))\n",
    "        model.add(Activation(\"relu\"))\n",
    "        model.add(MaxPooling2D(pool_size=(2,2),strides=(2,2)))\n",
    "        model.add(Flatten())\n",
    "        model.add(Dense(500))\n",
    "        model.add(Activation(\"relu\"))\n",
    "        model.add(Dense(classes))\n",
    "        model.add(Activation(\"softmax\"))\n",
    "        return model"
   ]
  },
  {
   "cell_type": "code",
   "execution_count": 7,
   "metadata": {
    "ExecuteTime": {
     "end_time": "2019-05-04T06:18:52.688442Z",
     "start_time": "2019-05-04T06:18:51.127707Z"
    }
   },
   "outputs": [
    {
     "name": "stdout",
     "output_type": "stream",
     "text": [
      "60000 train samples\n",
      "10000 test samples\n"
     ]
    }
   ],
   "source": [
    "NB_EPOCH=20\n",
    "BATCH_SIZE=128\n",
    "VERBOSE =1\n",
    "OPTIMIZER =Adam()\n",
    "VALIDATION_SPLIT=0.2\n",
    "IMG_ROWS,IMG_COLS=28,28\n",
    "NB_CLASSES = 10\n",
    "INPUT_SHAPE=(1,IMG_ROWS,IMG_COLS)\n",
    "(X_train,y_train),(X_test,y_test)= mnist.load_data()\n",
    "K.set_image_dim_ordering(\"th\")\n",
    "X_train = X_train.astype(\"float32\")\n",
    "X_test = X_test.astype(\"float32\")\n",
    "X_train/=255\n",
    "X_test/=255\n",
    "X_train=X_train[:,np.newaxis,:,:]\n",
    "X_test = X_test[:,np.newaxis,:,:]\n",
    "print(X_train.shape[0],'train samples')\n",
    "print(X_test.shape[0],'test samples')"
   ]
  },
  {
   "cell_type": "code",
   "execution_count": 8,
   "metadata": {
    "ExecuteTime": {
     "end_time": "2019-05-04T06:19:41.848996Z",
     "start_time": "2019-05-04T06:19:41.836193Z"
    }
   },
   "outputs": [],
   "source": [
    "y_train = np_utils.to_categorical(y_train,NB_CLASSES)\n",
    "y_test = np_utils.to_categorical(y_test,NB_CLASSES)"
   ]
  },
  {
   "cell_type": "code",
   "execution_count": 11,
   "metadata": {
    "ExecuteTime": {
     "end_time": "2019-05-04T06:20:55.029797Z",
     "start_time": "2019-05-04T06:20:54.683048Z"
    }
   },
   "outputs": [
    {
     "name": "stderr",
     "output_type": "stream",
     "text": [
      "/Users/aadebuger/GEXT/kerasvenv3/lib/python3.6/site-packages/ipykernel_launcher.py:9: UserWarning: Update your `Conv2D` call to the Keras 2 API: `Conv2D(50, kernel_size=5, padding=\"same\")`\n",
      "  if __name__ == '__main__':\n"
     ]
    }
   ],
   "source": [
    "model = LeNet.build(input_shape=INPUT_SHAPE,classes=NB_CLASSES)"
   ]
  },
  {
   "cell_type": "code",
   "execution_count": 12,
   "metadata": {
    "ExecuteTime": {
     "end_time": "2019-05-04T06:21:56.271245Z",
     "start_time": "2019-05-04T06:21:56.221314Z"
    }
   },
   "outputs": [],
   "source": [
    "model.compile(loss='categorical_crossentropy',optimizer = OPTIMIZER,metrics=['accuracy'])"
   ]
  },
  {
   "cell_type": "code",
   "execution_count": 14,
   "metadata": {
    "ExecuteTime": {
     "end_time": "2019-05-04T06:29:00.924917Z",
     "start_time": "2019-05-04T06:22:29.633837Z"
    }
   },
   "outputs": [
    {
     "name": "stdout",
     "output_type": "stream",
     "text": [
      "Train on 48000 samples, validate on 12000 samples\n",
      "Epoch 1/1\n",
      "48000/48000 [==============================] - 390s 8ms/step - loss: 0.1200 - acc: 0.9621 - val_loss: 0.0562 - val_acc: 0.9822\n"
     ]
    }
   ],
   "source": [
    "history= model.fit(X_train,y_train,verbose=VERBOSE,validation_split=VALIDATION_SPLIT)"
   ]
  },
  {
   "cell_type": "code",
   "execution_count": 16,
   "metadata": {
    "ExecuteTime": {
     "end_time": "2019-05-04T06:34:54.530800Z",
     "start_time": "2019-05-04T06:34:16.425976Z"
    }
   },
   "outputs": [
    {
     "name": "stdout",
     "output_type": "stream",
     "text": [
      "10000/10000 [==============================] - 38s 4ms/step\n",
      "Test score: 0.045849408634961585\n",
      "Test accuracy: 0.985\n"
     ]
    }
   ],
   "source": [
    "score = model.evaluate(X_test,y_test,verbose=VERBOSE)\n",
    "print('Test score:',score[0])\n",
    "print('Test accuracy:',score[1])"
   ]
  },
  {
   "cell_type": "code",
   "execution_count": null,
   "metadata": {},
   "outputs": [],
   "source": []
  }
 ],
 "metadata": {
  "kernelspec": {
   "display_name": "Python 3",
   "language": "python",
   "name": "python3"
  },
  "language_info": {
   "codemirror_mode": {
    "name": "ipython",
    "version": 3
   },
   "file_extension": ".py",
   "mimetype": "text/x-python",
   "name": "python",
   "nbconvert_exporter": "python",
   "pygments_lexer": "ipython3",
   "version": "3.6.5"
  }
 },
 "nbformat": 4,
 "nbformat_minor": 2
}
